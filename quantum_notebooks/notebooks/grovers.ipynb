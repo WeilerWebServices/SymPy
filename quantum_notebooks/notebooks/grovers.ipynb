{
 "cells": [
  {
   "cell_type": "markdown",
   "metadata": {},
   "source": [
    "<h1>Grover's Algorithm</h1>"
   ]
  },
  {
   "cell_type": "markdown",
   "metadata": {},
   "source": [
    "https://en.wikipedia.org/wiki/Grover%27s_algorithm"
   ]
  },
  {
   "cell_type": "markdown",
   "metadata": {},
   "source": [
    "## Imports"
   ]
  },
  {
   "cell_type": "code",
   "execution_count": 10,
   "metadata": {
    "collapsed": true
   },
   "outputs": [],
   "source": [
    "%matplotlib inline"
   ]
  },
  {
   "cell_type": "code",
   "execution_count": 11,
   "metadata": {
    "collapsed": true
   },
   "outputs": [],
   "source": [
    "from IPython.display import display"
   ]
  },
  {
   "cell_type": "code",
   "execution_count": 12,
   "metadata": {
    "collapsed": true
   },
   "outputs": [],
   "source": [
    "from sympy import init_printing\n",
    "init_printing(use_latex=True)"
   ]
  },
  {
   "cell_type": "code",
   "execution_count": 13,
   "metadata": {
    "collapsed": true
   },
   "outputs": [],
   "source": [
    "from sympy import sqrt, symbols, Rational\n",
    "from sympy import expand, Eq, Symbol, simplify, exp, sin\n",
    "from sympy.physics.quantum import *\n",
    "from sympy.physics.quantum.qubit import *\n",
    "from sympy.physics.quantum.gate import *\n",
    "from sympy.physics.quantum.grover import *\n",
    "from sympy.physics.quantum.qft import QFT, IQFT, Fourier\n",
    "from sympy.physics.quantum.circuitplot import circuit_plot"
   ]
  },
  {
   "cell_type": "markdown",
   "metadata": {},
   "source": [
    "## Grover's algorithm for 3 qubits"
   ]
  },
  {
   "cell_type": "code",
   "execution_count": 14,
   "metadata": {
    "collapsed": true
   },
   "outputs": [],
   "source": [
    "nqubits = 3"
   ]
  },
  {
   "cell_type": "markdown",
   "metadata": {},
   "source": [
    "Grover's algorithm is a quantum algorithm which searches an unordered database (inverts a function). It provides polynomial speedup over classical brute-force search ($O(\\sqrt{N}) vs. O(N))$ "
   ]
  },
  {
   "cell_type": "markdown",
   "metadata": {},
   "source": [
    "Define a black box function that returns True if it is passed the state we are searching for."
   ]
  },
  {
   "cell_type": "code",
   "execution_count": 15,
   "metadata": {
    "collapsed": true
   },
   "outputs": [],
   "source": [
    "def black_box(qubits):\n",
    "    return True if qubits == IntQubit(1, qubits.nqubits) else False"
   ]
  },
  {
   "cell_type": "markdown",
   "metadata": {},
   "source": [
    "Build a uniform superposition state to start the search."
   ]
  },
  {
   "cell_type": "code",
   "execution_count": 16,
   "metadata": {
    "collapsed": false
   },
   "outputs": [
    {
     "data": {
      "image/png": "[encoded data removed]",
      "text/latex": [
       "$$\\frac{\\sqrt{2}}{4} {\\left|0\\right\\rangle } + \\frac{\\sqrt{2}}{4} {\\left|1\\right\\rangle } + \\frac{\\sqrt{2}}{4} {\\left|2\\right\\rangle } + \\frac{\\sqrt{2}}{4} {\\left|3\\right\\rangle } + \\frac{\\sqrt{2}}{4} {\\left|4\\right\\rangle } + \\frac{\\sqrt{2}}{4} {\\left|5\\right\\rangle } + \\frac{\\sqrt{2}}{4} {\\left|6\\right\\rangle } + \\frac{\\sqrt{2}}{4} {\\left|7\\right\\rangle }$$"
      ],
      "text/plain": [
       "√2⋅❘0⟩   √2⋅❘1⟩   √2⋅❘2⟩   √2⋅❘3⟩   √2⋅❘4⟩   √2⋅❘5⟩   √2⋅❘6⟩   √2⋅❘7⟩\n",
       "────── + ────── + ────── + ────── + ────── + ────── + ────── + ──────\n",
       "  4        4        4        4        4        4        4        4   "
      ]
     },
     "execution_count": 16,
     "metadata": {},
     "output_type": "execute_result"
    }
   ],
   "source": [
    "psi = superposition_basis(nqubits)\n",
    "psi"
   ]
  },
  {
   "cell_type": "code",
   "execution_count": 17,
   "metadata": {
    "collapsed": true
   },
   "outputs": [],
   "source": [
    "v = OracleGate(nqubits, black_box)"
   ]
  },
  {
   "cell_type": "markdown",
   "metadata": {},
   "source": [
    "Perform two iterations of Grover's algorithm.  Each iteration, the amplitude of the target state increases."
   ]
  },
  {
   "cell_type": "code",
   "execution_count": 18,
   "metadata": {
    "collapsed": false
   },
   "outputs": [
    {
     "data": {
      "image/png": "[encoded data removed]",
      "text/latex": [
       "$$\\frac{\\sqrt{2}}{8} {\\left|0\\right\\rangle } + \\frac{5 \\sqrt{2}}{8} {\\left|1\\right\\rangle } + \\frac{\\sqrt{2}}{8} {\\left|2\\right\\rangle } + \\frac{\\sqrt{2}}{8} {\\left|3\\right\\rangle } + \\frac{\\sqrt{2}}{8} {\\left|4\\right\\rangle } + \\frac{\\sqrt{2}}{8} {\\left|5\\right\\rangle } + \\frac{\\sqrt{2}}{8} {\\left|6\\right\\rangle } + \\frac{\\sqrt{2}}{8} {\\left|7\\right\\rangle }$$"
      ],
      "text/plain": [
       "√2⋅❘0⟩   5⋅√2⋅❘1⟩   √2⋅❘2⟩   √2⋅❘3⟩   √2⋅❘4⟩   √2⋅❘5⟩   √2⋅❘6⟩   √2⋅❘7⟩\n",
       "────── + ──────── + ────── + ────── + ────── + ────── + ────── + ──────\n",
       "  8         8         8        8        8        8        8        8   "
      ]
     },
     "execution_count": 18,
     "metadata": {},
     "output_type": "execute_result"
    }
   ],
   "source": [
    "iter1 = qapply(grover_iteration(psi, v))\n",
    "iter1"
   ]
  },
  {
   "cell_type": "code",
   "execution_count": 19,
   "metadata": {
    "collapsed": false
   },
   "outputs": [
    {
     "data": {
      "image/png": "[encoded data removed]",
      "text/latex": [
       "$$- \\frac{\\sqrt{2}}{16} {\\left|0\\right\\rangle } + \\frac{11 \\sqrt{2}}{16} {\\left|1\\right\\rangle } - \\frac{\\sqrt{2}}{16} {\\left|2\\right\\rangle } - \\frac{\\sqrt{2}}{16} {\\left|3\\right\\rangle } - \\frac{\\sqrt{2}}{16} {\\left|4\\right\\rangle } - \\frac{\\sqrt{2}}{16} {\\left|5\\right\\rangle } - \\frac{\\sqrt{2}}{16} {\\left|6\\right\\rangle } - \\frac{\\sqrt{2}}{16} {\\left|7\\right\\rangle }$$"
      ],
      "text/plain": [
       "  √2⋅❘0⟩   11⋅√2⋅❘1⟩   √2⋅❘2⟩   √2⋅❘3⟩   √2⋅❘4⟩   √2⋅❘5⟩   √2⋅❘6⟩   √2⋅❘7⟩\n",
       "- ────── + ───────── - ────── - ────── - ────── - ────── - ────── - ──────\n",
       "    16         16        16       16       16       16       16       16  "
      ]
     },
     "execution_count": 19,
     "metadata": {},
     "output_type": "execute_result"
    }
   ],
   "source": [
    "iter2 = qapply(grover_iteration(iter1, v))\n",
    "iter2"
   ]
  },
  {
   "cell_type": "markdown",
   "metadata": {},
   "source": [
    "A single shot measurement is performed to retrieve the target state."
   ]
  },
  {
   "cell_type": "code",
   "execution_count": 20,
   "metadata": {
    "collapsed": false
   },
   "outputs": [
    {
     "data": {
      "image/png": "[encoded data removed]",
      "text/latex": [
       "$${\\left|001\\right\\rangle }$$"
      ],
      "text/plain": [
       "❘001⟩"
      ]
     },
     "execution_count": 20,
     "metadata": {},
     "output_type": "execute_result"
    }
   ],
   "source": [
    "measure_all_oneshot(iter2)"
   ]
  }
 ],
 "metadata": {
  "kernelspec": {
   "display_name": "Python 3",
   "language": "python",
   "name": "python3"
  },
  "language_info": {
   "codemirror_mode": {
    "name": "ipython",
    "version": 3
   },
   "file_extension": ".py",
   "mimetype": "text/x-python",
   "name": "python",
   "nbconvert_exporter": "python",
   "pygments_lexer": "ipython3",
   "version": "3.5.1"
  }
 },
 "nbformat": 4,
 "nbformat_minor": 0
}
