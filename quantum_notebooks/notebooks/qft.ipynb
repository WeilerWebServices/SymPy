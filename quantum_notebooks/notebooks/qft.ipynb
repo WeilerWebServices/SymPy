{
 "cells": [
  {
   "cell_type": "markdown",
   "metadata": {},
   "source": [
    "# Quantum Fourier Transform"
   ]
  },
  {
   "cell_type": "markdown",
   "metadata": {},
   "source": [
    "https://en.wikipedia.org/wiki/Quantum_Fourier_transform"
   ]
  },
  {
   "cell_type": "markdown",
   "metadata": {},
   "source": [
    "## Imports"
   ]
  },
  {
   "cell_type": "code",
   "execution_count": 3,
   "metadata": {
    "collapsed": false
   },
   "outputs": [],
   "source": [
    "%matplotlib inline"
   ]
  },
  {
   "cell_type": "code",
   "execution_count": 4,
   "metadata": {
    "collapsed": false
   },
   "outputs": [],
   "source": [
    "from sympy import init_printing\n",
    "init_printing(use_latex=True)"
   ]
  },
  {
   "cell_type": "code",
   "execution_count": 5,
   "metadata": {
    "collapsed": false
   },
   "outputs": [],
   "source": [
    "from ipywidgets import interact, interactive\n",
    "from IPython.display import clear_output, display, HTML, Audio"
   ]
  },
  {
   "cell_type": "code",
   "execution_count": 6,
   "metadata": {
    "collapsed": true
   },
   "outputs": [],
   "source": [
    "from sympy import sqrt, symbols, Rational\n",
    "from sympy import expand, Eq, Symbol, simplify, exp, sin\n",
    "from sympy.physics.quantum import *\n",
    "from sympy.physics.quantum.qubit import *\n",
    "from sympy.physics.quantum.gate import *\n",
    "from sympy.physics.quantum.grover import *\n",
    "from sympy.physics.quantum.qft import QFT, IQFT, Fourier\n",
    "from sympy.physics.quantum.circuitplot import circuit_plot"
   ]
  },
  {
   "cell_type": "markdown",
   "metadata": {},
   "source": [
    "## QFT Gate and Circuit"
   ]
  },
  {
   "cell_type": "markdown",
   "metadata": {},
   "source": [
    "The Quantum Fourier Transform (QFT) is useful for a quantum algorithm for factoring numbers which is exponentially faster than what is thought to be possible on a classical machine. The transform does a DFT on the state of a quantum system. There is a simple decomposition of the QFT in terms of a few elementary gates.\n",
    "\n",
    "Build a 3 qubit QFT and decompose it into primitive gates:"
   ]
  },
  {
   "cell_type": "code",
   "execution_count": 7,
   "metadata": {
    "collapsed": false
   },
   "outputs": [
    {
     "data": {
      "image/png": "[encoded data removed]",
      "text/latex": [
       "$$SWAP_{0,2} H_{0} C_{0}{\\left(S_{1}\\right)} H_{1} C_{0}{\\left(T_{2}\\right)} C_{1}{\\left(S_{2}\\right)} H_{2}$$"
      ],
      "text/plain": [
       "SWAP   ⋅H ⋅C ⎛S ⎞⋅H ⋅C ⎛T ⎞⋅C ⎛S ⎞⋅H \n",
       "    0,2  0  0⎝ 1⎠  1  0⎝ 2⎠  1⎝ 2⎠  2"
      ]
     },
     "execution_count": 7,
     "metadata": {},
     "output_type": "execute_result"
    }
   ],
   "source": [
    "fourier = QFT(0,3).decompose()\n",
    "fourier"
   ]
  },
  {
   "cell_type": "code",
   "execution_count": 9,
   "metadata": {
    "collapsed": false
   },
   "outputs": [
    {
     "data": {
      "image/png": "[encoded data removed]",
      "text/plain": [
       "<matplotlib.figure.Figure at 0x1105382b0>"
      ]
     },
     "metadata": {},
     "output_type": "display_data"
    }
   ],
   "source": [
    "circuit_plot(fourier, nqubits=3);"
   ]
  },
  {
   "cell_type": "code",
   "execution_count": null,
   "metadata": {
    "collapsed": true
   },
   "outputs": [],
   "source": [
    "def plot_qft(n):\n",
    "    circuit_plot(QFT(0,n).decompose(), nqubits=n)"
   ]
  },
  {
   "cell_type": "code",
   "execution_count": 11,
   "metadata": {
    "collapsed": false
   },
   "outputs": [
    {
     "data": {
      "image/png": "[encoded data removed]",
      "text/plain": [
       "<matplotlib.figure.Figure at 0x1119ce358>"
      ]
     },
     "metadata": {},
     "output_type": "display_data"
    }
   ],
   "source": [
    "interact(plot_qft, n=(2,8));"
   ]
  },
  {
   "cell_type": "markdown",
   "metadata": {},
   "source": [
    "The QFT circuit can be represented in various symbolic forms."
   ]
  },
  {
   "cell_type": "code",
   "execution_count": 12,
   "metadata": {
    "collapsed": false
   },
   "outputs": [
    {
     "data": {
      "image/png": "[encoded data removed]",
      "text/latex": [
       "$$\\left[\\begin{matrix}\\frac{\\sqrt{2}}{4} & \\frac{\\sqrt{2}}{4} & \\frac{\\sqrt{2}}{4} & \\frac{\\sqrt{2}}{4} & \\frac{\\sqrt{2}}{4} & \\frac{\\sqrt{2}}{4} & \\frac{\\sqrt{2}}{4} & \\frac{\\sqrt{2}}{4}\\\\\\frac{\\sqrt{2}}{4} & \\frac{\\sqrt{2}}{4} e^{\\frac{i \\pi}{4}} & \\frac{\\sqrt{2} i}{4} & \\frac{\\sqrt{2}}{4} e^{\\frac{3 \\pi}{4} i} & - \\frac{\\sqrt{2}}{4} & \\frac{\\sqrt{2}}{4} e^{\\frac{5 \\pi}{4} i} & - \\frac{\\sqrt{2} i}{4} & \\frac{\\sqrt{2}}{4} e^{\\frac{7 \\pi}{4} i}\\\\\\frac{\\sqrt{2}}{4} & \\frac{\\sqrt{2} i}{4} & - \\frac{\\sqrt{2}}{4} & - \\frac{\\sqrt{2} i}{4} & \\frac{\\sqrt{2}}{4} & \\frac{\\sqrt{2} i}{4} & - \\frac{\\sqrt{2}}{4} & - \\frac{\\sqrt{2} i}{4}\\\\\\frac{\\sqrt{2}}{4} & \\frac{\\sqrt{2}}{4} e^{\\frac{3 \\pi}{4} i} & - \\frac{\\sqrt{2} i}{4} & \\frac{\\sqrt{2}}{4} e^{\\frac{i \\pi}{4}} & - \\frac{\\sqrt{2}}{4} & \\frac{\\sqrt{2}}{4} e^{\\frac{7 \\pi}{4} i} & \\frac{\\sqrt{2} i}{4} & \\frac{\\sqrt{2}}{4} e^{\\frac{5 \\pi}{4} i}\\\\\\frac{\\sqrt{2}}{4} & - \\frac{\\sqrt{2}}{4} & \\frac{\\sqrt{2}}{4} & - \\frac{\\sqrt{2}}{4} & \\frac{\\sqrt{2}}{4} & - \\frac{\\sqrt{2}}{4} & \\frac{\\sqrt{2}}{4} & - \\frac{\\sqrt{2}}{4}\\\\\\frac{\\sqrt{2}}{4} & \\frac{\\sqrt{2}}{4} e^{\\frac{5 \\pi}{4} i} & \\frac{\\sqrt{2} i}{4} & \\frac{\\sqrt{2}}{4} e^{\\frac{7 \\pi}{4} i} & - \\frac{\\sqrt{2}}{4} & \\frac{\\sqrt{2}}{4} e^{\\frac{i \\pi}{4}} & - \\frac{\\sqrt{2} i}{4} & \\frac{\\sqrt{2}}{4} e^{\\frac{3 \\pi}{4} i}\\\\\\frac{\\sqrt{2}}{4} & - \\frac{\\sqrt{2} i}{4} & - \\frac{\\sqrt{2}}{4} & \\frac{\\sqrt{2} i}{4} & \\frac{\\sqrt{2}}{4} & - \\frac{\\sqrt{2} i}{4} & - \\frac{\\sqrt{2}}{4} & \\frac{\\sqrt{2} i}{4}\\\\\\frac{\\sqrt{2}}{4} & \\frac{\\sqrt{2}}{4} e^{\\frac{7 \\pi}{4} i} & - \\frac{\\sqrt{2} i}{4} & \\frac{\\sqrt{2}}{4} e^{\\frac{5 \\pi}{4} i} & - \\frac{\\sqrt{2}}{4} & \\frac{\\sqrt{2}}{4} e^{\\frac{3 \\pi}{4} i} & \\frac{\\sqrt{2} i}{4} & \\frac{\\sqrt{2}}{4} e^{\\frac{i \\pi}{4}}\\end{matrix}\\right]$$"
      ],
      "text/plain": [
       "⎡√2     √2        √2       √2       √2      √2        √2       √2    ⎤\n",
       "⎢──     ──        ──       ──       ──      ──        ──       ──    ⎥\n",
       "⎢4      4         4        4        4       4         4        4     ⎥\n",
       "⎢                                                                    ⎥\n",
       "⎢         ⅈ⋅π               3⋅ⅈ⋅π            5⋅ⅈ⋅π              7⋅ⅈ⋅π⎥\n",
       "⎢         ───               ─────            ─────              ─────⎥\n",
       "⎢          4                  4                4                  4  ⎥\n",
       "⎢√2   √2⋅ℯ       √2⋅ⅈ   √2⋅ℯ       -√2   √2⋅ℯ       -√2⋅ⅈ   √2⋅ℯ     ⎥\n",
       "⎢──   ───────    ────   ─────────  ────  ─────────  ──────  ─────────⎥\n",
       "⎢4       4        4         4       4        4        4         4    ⎥\n",
       "⎢                                                                    ⎥\n",
       "⎢√2    √2⋅ⅈ      -√2     -√2⋅ⅈ      √2     √2⋅ⅈ      -√2     -√2⋅ⅈ   ⎥\n",
       "⎢──    ────      ────    ──────     ──     ────      ────    ──────  ⎥\n",
       "⎢4      4         4        4        4       4         4        4     ⎥\n",
       "⎢                                                                    ⎥\n",
       "⎢        3⋅ⅈ⋅π               ⅈ⋅π             7⋅ⅈ⋅π              5⋅ⅈ⋅π⎥\n",
       "⎢        ─────               ───             ─────              ─────⎥\n",
       "⎢          4                  4                4                  4  ⎥\n",
       "⎢√2  √2⋅ℯ       -√2⋅ⅈ    √2⋅ℯ      -√2   √2⋅ℯ        √2⋅ⅈ   √2⋅ℯ     ⎥\n",
       "⎢──  ─────────  ──────   ───────   ────  ─────────   ────   ─────────⎥\n",
       "⎢4       4        4         4       4        4        4         4    ⎥\n",
       "⎢                                                                    ⎥\n",
       "⎢√2    -√2        √2      -√2       √2     -√2        √2      -√2    ⎥\n",
       "⎢──    ────       ──      ────      ──     ────       ──      ────   ⎥\n",
       "⎢4      4         4        4        4       4         4        4     ⎥\n",
       "⎢                                                                    ⎥\n",
       "⎢        5⋅ⅈ⋅π              7⋅ⅈ⋅π             ⅈ⋅π               3⋅ⅈ⋅π⎥\n",
       "⎢        ─────              ─────             ───               ─────⎥\n",
       "⎢          4                  4                4                  4  ⎥\n",
       "⎢√2  √2⋅ℯ        √2⋅ⅈ   √2⋅ℯ       -√2    √2⋅ℯ      -√2⋅ⅈ   √2⋅ℯ     ⎥\n",
       "⎢──  ─────────   ────   ─────────  ────   ───────   ──────  ─────────⎥\n",
       "⎢4       4        4         4       4        4        4         4    ⎥\n",
       "⎢                                                                    ⎥\n",
       "⎢√2   -√2⋅ⅈ      -√2      √2⋅ⅈ      √2    -√2⋅ⅈ      -√2      √2⋅ⅈ   ⎥\n",
       "⎢──   ──────     ────     ────      ──    ──────     ────     ────   ⎥\n",
       "⎢4      4         4        4        4       4         4        4     ⎥\n",
       "⎢                                                                    ⎥\n",
       "⎢        7⋅ⅈ⋅π              5⋅ⅈ⋅π            3⋅ⅈ⋅π               ⅈ⋅π ⎥\n",
       "⎢        ─────              ─────            ─────               ─── ⎥\n",
       "⎢          4                  4                4                  4  ⎥\n",
       "⎢√2  √2⋅ℯ       -√2⋅ⅈ   √2⋅ℯ       -√2   √2⋅ℯ        √2⋅ⅈ    √2⋅ℯ    ⎥\n",
       "⎢──  ─────────  ──────  ─────────  ────  ─────────   ────    ─────── ⎥\n",
       "⎣4       4        4         4       4        4        4         4    ⎦"
      ]
     },
     "execution_count": 12,
     "metadata": {},
     "output_type": "execute_result"
    }
   ],
   "source": [
    "m = represent(QFT(0,3), nqubits=3)\n",
    "m"
   ]
  },
  {
   "cell_type": "code",
   "execution_count": 13,
   "metadata": {
    "collapsed": false
   },
   "outputs": [
    {
     "data": {
      "image/png": "[encoded data removed]",
      "text/latex": [
       "$$\\left[\\begin{matrix}1 & 1 & 1 & 1 & 1 & 1 & 1 & 1\\\\1 & \\omega & \\omega^{2} & \\omega^{3} & \\omega^{4} & \\omega^{5} & \\omega^{6} & \\omega^{7}\\\\1 & \\omega^{2} & \\omega^{4} & \\omega^{6} & 1 & \\omega^{2} & \\omega^{4} & \\omega^{6}\\\\1 & \\omega^{3} & \\omega^{6} & \\omega & \\omega^{4} & \\omega^{7} & \\omega^{2} & \\omega^{5}\\\\1 & \\omega^{4} & 1 & \\omega^{4} & 1 & \\omega^{4} & 1 & \\omega^{4}\\\\1 & \\omega^{5} & \\omega^{2} & \\omega^{7} & \\omega^{4} & \\omega & \\omega^{6} & \\omega^{3}\\\\1 & \\omega^{6} & \\omega^{4} & \\omega^{2} & 1 & \\omega^{6} & \\omega^{4} & \\omega^{2}\\\\1 & \\omega^{7} & \\omega^{6} & \\omega^{5} & \\omega^{4} & \\omega^{3} & \\omega^{2} & \\omega\\end{matrix}\\right]$$"
      ],
      "text/plain": [
       "⎡1  1   1   1   1   1   1   1 ⎤\n",
       "⎢                             ⎥\n",
       "⎢        2   3   4   5   6   7⎥\n",
       "⎢1  ω   ω   ω   ω   ω   ω   ω ⎥\n",
       "⎢                             ⎥\n",
       "⎢    2   4   6       2   4   6⎥\n",
       "⎢1  ω   ω   ω   1   ω   ω   ω ⎥\n",
       "⎢                             ⎥\n",
       "⎢    3   6       4   7   2   5⎥\n",
       "⎢1  ω   ω   ω   ω   ω   ω   ω ⎥\n",
       "⎢                             ⎥\n",
       "⎢    4       4       4       4⎥\n",
       "⎢1  ω   1   ω   1   ω   1   ω ⎥\n",
       "⎢                             ⎥\n",
       "⎢    5   2   7   4       6   3⎥\n",
       "⎢1  ω   ω   ω   ω   ω   ω   ω ⎥\n",
       "⎢                             ⎥\n",
       "⎢    6   4   2       6   4   2⎥\n",
       "⎢1  ω   ω   ω   1   ω   ω   ω ⎥\n",
       "⎢                             ⎥\n",
       "⎢    7   6   5   4   3   2    ⎥\n",
       "⎣1  ω   ω   ω   ω   ω   ω   ω ⎦"
      ]
     },
     "execution_count": 13,
     "metadata": {},
     "output_type": "execute_result"
    }
   ],
   "source": [
    "represent(Fourier(0,3), nqubits=3)*4/sqrt(2)"
   ]
  },
  {
   "cell_type": "markdown",
   "metadata": {},
   "source": [
    "## QFT in action"
   ]
  },
  {
   "cell_type": "markdown",
   "metadata": {},
   "source": [
    "Build a 3 qubit state to take the QFT of:"
   ]
  },
  {
   "cell_type": "code",
   "execution_count": 14,
   "metadata": {
    "collapsed": false
   },
   "outputs": [
    {
     "data": {
      "image/png": "[encoded data removed]",
      "text/latex": [
       "$$\\frac{1}{2} \\left({\\left|000\\right\\rangle } + {\\left|010\\right\\rangle } + {\\left|100\\right\\rangle } + {\\left|110\\right\\rangle }\\right)$$"
      ],
      "text/plain": [
       "❘000⟩ + ❘010⟩ + ❘100⟩ + ❘110⟩\n",
       "─────────────────────────────\n",
       "              2              "
      ]
     },
     "execution_count": 14,
     "metadata": {},
     "output_type": "execute_result"
    }
   ],
   "source": [
    "state = (Qubit('000') + Qubit('010') + Qubit('100') + Qubit('110'))/sqrt(4)\n",
    "state"
   ]
  },
  {
   "cell_type": "markdown",
   "metadata": {},
   "source": [
    "Perform the QFT:"
   ]
  },
  {
   "cell_type": "code",
   "execution_count": 15,
   "metadata": {
    "collapsed": false
   },
   "outputs": [
    {
     "data": {
      "image/png": "[encoded data removed]",
      "text/latex": [
       "$$\\frac{\\sqrt{2}}{2} {\\left|000\\right\\rangle } + \\frac{\\sqrt{2}}{2} {\\left|100\\right\\rangle }$$"
      ],
      "text/plain": [
       "√2⋅❘000⟩   √2⋅❘100⟩\n",
       "──────── + ────────\n",
       "   2          2    "
      ]
     },
     "execution_count": 15,
     "metadata": {},
     "output_type": "execute_result"
    }
   ],
   "source": [
    "qapply(fourier*state)"
   ]
  },
  {
   "cell_type": "code",
   "execution_count": 17,
   "metadata": {
    "collapsed": true
   },
   "outputs": [],
   "source": [
    "def apply_qft(n):\n",
    "    state = Qubit(IntQubit(n, 3))\n",
    "    result = qapply(QFT(0,3).decompose()*state)\n",
    "    display(state)\n",
    "    display(result)"
   ]
  },
  {
   "cell_type": "code",
   "execution_count": 18,
   "metadata": {
    "collapsed": false
   },
   "outputs": [
    {
     "data": {
      "image/png": "[encoded data removed]",
      "text/latex": [
       "$${\\left|011\\right\\rangle }$$"
      ],
      "text/plain": [
       "❘011⟩"
      ]
     },
     "metadata": {},
     "output_type": "display_data"
    },
    {
     "data": {
      "image/png": "[encoded data removed]",
      "text/latex": [
       "$$\\frac{\\sqrt{2}}{4} {\\left|000\\right\\rangle } + \\frac{\\sqrt{2} i}{4} e^{\\frac{i \\pi}{4}} {\\left|001\\right\\rangle } - \\frac{\\sqrt{2} i}{4} {\\left|010\\right\\rangle } + \\frac{\\sqrt{2}}{4} e^{\\frac{i \\pi}{4}} {\\left|011\\right\\rangle } - \\frac{\\sqrt{2}}{4} {\\left|100\\right\\rangle } - \\frac{\\sqrt{2} i}{4} e^{\\frac{i \\pi}{4}} {\\left|101\\right\\rangle } + \\frac{\\sqrt{2} i}{4} {\\left|110\\right\\rangle } - \\frac{\\sqrt{2}}{4} e^{\\frac{i \\pi}{4}} {\\left|111\\right\\rangle }$$"
      ],
      "text/plain": [
       "                 ⅈ⋅π                          ⅈ⋅π                          ⅈ⋅π\n",
       "                 ───                          ───                          ───\n",
       "                  4                            4                            4 \n",
       "√2⋅❘000⟩   √2⋅ⅈ⋅ℯ   ⋅❘001⟩   √2⋅ⅈ⋅❘010⟩   √2⋅ℯ   ⋅❘011⟩   √2⋅❘100⟩   √2⋅ⅈ⋅ℯ   \n",
       "──────── + ─────────────── - ────────── + ───────────── - ──────── - ─────────\n",
       "   4              4              4              4            4              4 \n",
       "\n",
       "                          ⅈ⋅π      \n",
       "                          ───      \n",
       "                           4       \n",
       "⋅❘101⟩   √2⋅ⅈ⋅❘110⟩   √2⋅ℯ   ⋅❘111⟩\n",
       "────── + ────────── - ─────────────\n",
       "             4              4      "
      ]
     },
     "metadata": {},
     "output_type": "display_data"
    }
   ],
   "source": [
    "interact(apply_qft, n=(0,7));"
   ]
  }
 ],
 "metadata": {
  "kernelspec": {
   "display_name": "Python 3",
   "language": "python",
   "name": "python3"
  },
  "language_info": {
   "codemirror_mode": {
    "name": "ipython",
    "version": 3
   },
   "file_extension": ".py",
   "mimetype": "text/x-python",
   "name": "python",
   "nbconvert_exporter": "python",
   "pygments_lexer": "ipython3",
   "version": "3.5.1"
  }
 },
 "nbformat": 4,
 "nbformat_minor": 0
}
