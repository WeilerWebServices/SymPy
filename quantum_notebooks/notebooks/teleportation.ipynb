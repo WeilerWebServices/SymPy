{
 "cells": [
  {
   "cell_type": "markdown",
   "metadata": {},
   "source": [
    "# Teleportation"
   ]
  },
  {
   "cell_type": "markdown",
   "metadata": {},
   "source": [
    "https://en.wikipedia.org/wiki/Quantum_teleportation"
   ]
  },
  {
   "cell_type": "markdown",
   "metadata": {},
   "source": [
    "## Imports"
   ]
  },
  {
   "cell_type": "code",
   "execution_count": 5,
   "metadata": {
    "collapsed": false
   },
   "outputs": [],
   "source": [
    "%matplotlib inline"
   ]
  },
  {
   "cell_type": "code",
   "execution_count": 6,
   "metadata": {
    "collapsed": true
   },
   "outputs": [],
   "source": [
    "from sympy import init_printing\n",
    "init_printing(use_latex=True)"
   ]
  },
  {
   "cell_type": "code",
   "execution_count": 7,
   "metadata": {
    "collapsed": true
   },
   "outputs": [],
   "source": [
    "from sympy import sqrt, symbols, Rational\n",
    "from sympy import expand, Eq, Symbol, simplify, exp, sin\n",
    "from sympy.physics.quantum import *\n",
    "from sympy.physics.quantum.qubit import *\n",
    "from sympy.physics.quantum.gate import *\n",
    "from sympy.physics.quantum.grover import *\n",
    "from sympy.physics.quantum.qft import QFT, IQFT, Fourier\n",
    "from sympy.physics.quantum.circuitplot import circuit_plot"
   ]
  },
  {
   "cell_type": "markdown",
   "metadata": {},
   "source": [
    "## Teleportation"
   ]
  },
  {
   "cell_type": "code",
   "execution_count": 8,
   "metadata": {
    "collapsed": false
   },
   "outputs": [
    {
     "data": {
      "image/png": "[encoded data removed]",
      "text/latex": [
       "$$a {\\left|000\\right\\rangle } + b {\\left|001\\right\\rangle }$$"
      ],
      "text/plain": [
       "a⋅❘000⟩ + b⋅❘001⟩"
      ]
     },
     "execution_count": 8,
     "metadata": {},
     "output_type": "execute_result"
    }
   ],
   "source": [
    "a,b = symbols('a b', real=True)\n",
    "state = Qubit('000')*a + Qubit('001')*b\n",
    "state"
   ]
  },
  {
   "cell_type": "code",
   "execution_count": 9,
   "metadata": {
    "collapsed": false
   },
   "outputs": [
    {
     "data": {
      "image/png": "[encoded data removed]",
      "text/latex": [
       "$$CNOT_{1,2} H_{1}$$"
      ],
      "text/plain": [
       "CNOT   ⋅H \n",
       "    1,2  1"
      ]
     },
     "execution_count": 9,
     "metadata": {},
     "output_type": "execute_result"
    }
   ],
   "source": [
    "entangle1_2 = CNOT(1,2)*HadamardGate(1)\n",
    "entangle1_2"
   ]
  },
  {
   "cell_type": "code",
   "execution_count": 10,
   "metadata": {
    "collapsed": false
   },
   "outputs": [
    {
     "data": {
      "image/png": "[encoded data removed]",
      "text/latex": [
       "$$\\frac{\\sqrt{2} a}{2} {\\left|000\\right\\rangle } + \\frac{\\sqrt{2} a}{2} {\\left|110\\right\\rangle } + \\frac{\\sqrt{2} b}{2} {\\left|001\\right\\rangle } + \\frac{\\sqrt{2} b}{2} {\\left|111\\right\\rangle }$$"
      ],
      "text/plain": [
       "√2⋅a⋅❘000⟩   √2⋅a⋅❘110⟩   √2⋅b⋅❘001⟩   √2⋅b⋅❘111⟩\n",
       "────────── + ────────── + ────────── + ──────────\n",
       "    2            2            2            2     "
      ]
     },
     "execution_count": 10,
     "metadata": {},
     "output_type": "execute_result"
    }
   ],
   "source": [
    "state = qapply(entangle1_2*state)\n",
    "state"
   ]
  },
  {
   "cell_type": "code",
   "execution_count": 11,
   "metadata": {
    "collapsed": false
   },
   "outputs": [
    {
     "data": {
      "image/png": "[encoded data removed]",
      "text/latex": [
       "$$H_{0} CNOT_{0,1}$$"
      ],
      "text/plain": [
       "H ⋅CNOT   \n",
       " 0     0,1"
      ]
     },
     "execution_count": 11,
     "metadata": {},
     "output_type": "execute_result"
    }
   ],
   "source": [
    "entangle0_1 = HadamardGate(0)*CNOT(0,1)\n",
    "entangle0_1"
   ]
  },
  {
   "cell_type": "code",
   "execution_count": 13,
   "metadata": {
    "collapsed": false
   },
   "outputs": [
    {
     "data": {
      "image/png": "[encoded data removed]",
      "text/plain": [
       "<matplotlib.figure.Figure at 0x10e0316d8>"
      ]
     },
     "metadata": {},
     "output_type": "display_data"
    }
   ],
   "source": [
    "circuit_plot(entangle0_1*entangle1_2, nqubits=3);"
   ]
  },
  {
   "cell_type": "code",
   "execution_count": 14,
   "metadata": {
    "collapsed": false
   },
   "outputs": [
    {
     "data": {
      "image/png": "[encoded data removed]",
      "text/latex": [
       "$$\\frac{a}{2} {\\left|000\\right\\rangle } + \\frac{a}{2} {\\left|001\\right\\rangle } + \\frac{a}{2} {\\left|110\\right\\rangle } + \\frac{a}{2} {\\left|111\\right\\rangle } + \\frac{b}{2} {\\left|010\\right\\rangle } - \\frac{b}{2} {\\left|011\\right\\rangle } + \\frac{b}{2} {\\left|100\\right\\rangle } - \\frac{b}{2} {\\left|101\\right\\rangle }$$"
      ],
      "text/plain": [
       "a⋅❘000⟩   a⋅❘001⟩   a⋅❘110⟩   a⋅❘111⟩   b⋅❘010⟩   b⋅❘011⟩   b⋅❘100⟩   b⋅❘101⟩\n",
       "─────── + ─────── + ─────── + ─────── + ─────── - ─────── + ─────── - ───────\n",
       "   2         2         2         2         2         2         2         2   "
      ]
     },
     "execution_count": 14,
     "metadata": {},
     "output_type": "execute_result"
    }
   ],
   "source": [
    "state = qapply(entangle0_1*state)\n",
    "state"
   ]
  },
  {
   "cell_type": "code",
   "execution_count": 15,
   "metadata": {
    "collapsed": true
   },
   "outputs": [],
   "source": [
    "result = measure_partial(state, (0,1))"
   ]
  },
  {
   "cell_type": "code",
   "execution_count": 16,
   "metadata": {
    "collapsed": false
   },
   "outputs": [
    {
     "data": {
      "image/png": "[encoded data removed]",
      "text/latex": [
       "$$\\frac{a {\\left|110\\right\\rangle }}{\\sqrt{a^{2} + b^{2}} \\sqrt{\\frac{a^{2}}{- 4 a^{2} - 4 b^{2}} + \\frac{b^{2}}{- 4 a^{2} - 4 b^{2}}}} + \\frac{b {\\left|010\\right\\rangle }}{\\sqrt{a^{2} + b^{2}} \\sqrt{\\frac{a^{2}}{- 4 a^{2} - 4 b^{2}} + \\frac{b^{2}}{- 4 a^{2} - 4 b^{2}}}}$$"
      ],
      "text/plain": [
       "                     a⋅❘110⟩                                              b⋅❘0\n",
       "────────────────────────────────────────────────── + ─────────────────────────\n",
       "                   _______________________________                      ______\n",
       "   _________      ╱        2               2            _________      ╱      \n",
       "  ╱  2    2      ╱        a               b            ╱  2    2      ╱       \n",
       "╲╱  a  + b  ⋅   ╱   ───────────── + ─────────────    ╲╱  a  + b  ⋅   ╱   ─────\n",
       "               ╱      ⎛   2    2⎞     ⎛   2    2⎞                   ╱      ⎛  \n",
       "             ╲╱     4⋅⎝- a  - b ⎠   4⋅⎝- a  - b ⎠                 ╲╱     4⋅⎝- \n",
       "\n",
       "10⟩                      \n",
       "─────────────────────────\n",
       "_________________________\n",
       "  2               2      \n",
       " a               b       \n",
       "──────── + ───────────── \n",
       " 2    2⎞     ⎛   2    2⎞ \n",
       "a  - b ⎠   4⋅⎝- a  - b ⎠ "
      ]
     },
     "execution_count": 16,
     "metadata": {},
     "output_type": "execute_result"
    }
   ],
   "source": [
    "state = (result[2][0]*2).expand()\n",
    "state"
   ]
  },
  {
   "cell_type": "code",
   "execution_count": 17,
   "metadata": {
    "collapsed": false
   },
   "outputs": [
    {
     "data": {
      "image/png": "[encoded data removed]",
      "text/latex": [
       "$$\\frac{a {\\left|010\\right\\rangle }}{\\sqrt{a^{2} + b^{2}} \\sqrt{\\frac{a^{2}}{- 4 a^{2} - 4 b^{2}} + \\frac{b^{2}}{- 4 a^{2} - 4 b^{2}}}} + \\frac{b {\\left|110\\right\\rangle }}{\\sqrt{a^{2} + b^{2}} \\sqrt{\\frac{a^{2}}{- 4 a^{2} - 4 b^{2}} + \\frac{b^{2}}{- 4 a^{2} - 4 b^{2}}}}$$"
      ],
      "text/plain": [
       "                     a⋅❘010⟩                                              b⋅❘1\n",
       "────────────────────────────────────────────────── + ─────────────────────────\n",
       "                   _______________________________                      ______\n",
       "   _________      ╱        2               2            _________      ╱      \n",
       "  ╱  2    2      ╱        a               b            ╱  2    2      ╱       \n",
       "╲╱  a  + b  ⋅   ╱   ───────────── + ─────────────    ╲╱  a  + b  ⋅   ╱   ─────\n",
       "               ╱      ⎛   2    2⎞     ⎛   2    2⎞                   ╱      ⎛  \n",
       "             ╲╱     4⋅⎝- a  - b ⎠   4⋅⎝- a  - b ⎠                 ╲╱     4⋅⎝- \n",
       "\n",
       "10⟩                      \n",
       "─────────────────────────\n",
       "_________________________\n",
       "  2               2      \n",
       " a               b       \n",
       "──────── + ───────────── \n",
       " 2    2⎞     ⎛   2    2⎞ \n",
       "a  - b ⎠   4⋅⎝- a  - b ⎠ "
      ]
     },
     "execution_count": 17,
     "metadata": {},
     "output_type": "execute_result"
    }
   ],
   "source": [
    "state = qapply(XGate(2)*state)\n",
    "state"
   ]
  }
 ],
 "metadata": {
  "kernelspec": {
   "display_name": "Python 3",
   "language": "python",
   "name": "python3"
  },
  "language_info": {
   "codemirror_mode": {
    "name": "ipython",
    "version": 3
   },
   "file_extension": ".py",
   "mimetype": "text/x-python",
   "name": "python",
   "nbconvert_exporter": "python",
   "pygments_lexer": "ipython3",
   "version": "3.5.1"
  }
 },
 "nbformat": 4,
 "nbformat_minor": 0
}
