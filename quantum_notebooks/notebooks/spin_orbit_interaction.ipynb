{
 "cells": [
  {
   "cell_type": "markdown",
   "metadata": {},
   "source": [
    "# Spin-Orbit Interaction"
   ]
  },
  {
   "cell_type": "markdown",
   "metadata": {},
   "source": [
    "## Imports"
   ]
  },
  {
   "cell_type": "code",
   "execution_count": 1,
   "metadata": {
    "collapsed": true
   },
   "outputs": [],
   "source": [
    "from IPython.display import display"
   ]
  },
  {
   "cell_type": "code",
   "execution_count": 2,
   "metadata": {
    "collapsed": true
   },
   "outputs": [],
   "source": [
    "from sympy import init_printing\n",
    "init_printing(use_latex=True)"
   ]
  },
  {
   "cell_type": "code",
   "execution_count": 3,
   "metadata": {
    "collapsed": false
   },
   "outputs": [],
   "source": [
    "from sympy import factor, pi, S, Sum, symbols\n",
    "from sympy.physics.quantum.spin import (\n",
    "    Jminus, Jx, Jz, J2, J2Op, JzKet, JzKetCoupled, Rotation, WignerD, couple, uncouple\n",
    ")\n",
    "from sympy.physics.quantum import (\n",
    "    Dagger, hbar, qapply, represent, TensorProduct\n",
    ")"
   ]
  },
  {
   "cell_type": "markdown",
   "metadata": {},
   "source": [
    "## Symbolic calculation"
   ]
  },
  {
   "cell_type": "markdown",
   "metadata": {},
   "source": [
    "If we start with a hydrogen atom, i.e. a nucleus of charge $Ze$ orbited by a single electron of charge $e$ with reduced mass $\\mu$, ignoring energy from center-of-mass motion, we can write the Hamiltonian in terms of the relative momentum, $p$, and position, $r$, as:\n",
    "\n",
    "$$H=\\frac{p^2}{2\\mu} - \\frac{Ze^2}{r}$$\n",
    "\n",
    "The resulting eigenfunctions have a seperate radial and angular compents, $\\psi=R_{n,l}(r)Y_{l,m}(\\phi,\\theta)$. While the radial component is a complicated function involving Laguere polynomials, the radial part is the familiar spherical harmonics with orbital angular momentum $\\vec{L}$, where $l$ and $m$ give the orbital angular momentum quantum numbers. We represent this as a angular momentum state:"
   ]
  },
  {
   "cell_type": "code",
   "execution_count": 4,
   "metadata": {
    "collapsed": false
   },
   "outputs": [
    {
     "data": {
      "image/png": "[encoded data removed]",
      "text/latex": [
       "$${\\left|l,m_{l}\\right\\rangle }$$"
      ],
      "text/plain": [
       "❘l,mₗ⟩"
      ]
     },
     "execution_count": 4,
     "metadata": {},
     "output_type": "execute_result"
    }
   ],
   "source": [
    "l, ml = symbols('l m_l')\n",
    "orbit = JzKet(l, ml)\n",
    "orbit"
   ]
  },
  {
   "cell_type": "markdown",
   "metadata": {},
   "source": [
    "Now, the spin orbit interaction arises from the electron experiencing a magnetic field as it orbits the electrically charged nucleus. This magnetic field is:\n",
    "\n",
    "$$\\vec{B} = \\frac{1}{c}\\frac{Ze\\vec{v}\\times\\vec{r}}{r^3} = \\frac{Ze\\vec{p}\\times\\vec{r}}{mcr^3}=\\frac{Ze\\vec{L}}{mc\\hbar r^3}$$\n",
    "\n",
    "Then the spin-orbit Hamiltonian can be written, using the electron's magnetic dipole moment $\\mu$, as:\n",
    "\n",
    "$$H_{SO} = -\\vec{\\mu}\\cdot\\vec{B} = -\\left(-\\frac{g\\mu_B \\vec{S}}{\\hbar}\\right)\\cdot\\left(\\frac{Ze\\vec{L}}{mc\\hbar r^3}\\right)$$\n",
    "\n",
    "Ignoring the radial term:\n",
    "\n",
    "$$\\propto \\vec{L}\\cdot\\vec{S} = J^2 - L^2 - S^2$$\n",
    "\n",
    "for $\\vec{J}$, the coupled angular momentum.\n",
    "\n",
    "The electron spin angular momentum is given as $\\vec{S}$, where the spin wavefunction is:"
   ]
  },
  {
   "cell_type": "code",
   "execution_count": 5,
   "metadata": {
    "collapsed": false
   },
   "outputs": [
    {
     "data": {
      "image/png": "[encoded data removed]",
      "text/latex": [
       "$${\\left|\\frac{1}{2},m_{s}\\right\\rangle }$$"
      ],
      "text/plain": [
       "❘1/2,mₛ⟩"
      ]
     },
     "execution_count": 5,
     "metadata": {},
     "output_type": "execute_result"
    }
   ],
   "source": [
    "ms = symbols('m_s')\n",
    "spin = JzKet(S(1)/2, ms)\n",
    "spin"
   ]
  },
  {
   "cell_type": "markdown",
   "metadata": {},
   "source": [
    "From this we build our uncoupled state:"
   ]
  },
  {
   "cell_type": "code",
   "execution_count": 6,
   "metadata": {
    "collapsed": false
   },
   "outputs": [
    {
     "data": {
      "image/png": "[encoded data removed]",
      "text/latex": [
       "$${{\\left|l,m_{l}\\right\\rangle }}\\otimes {{\\left|\\frac{1}{2},m_{s}\\right\\rangle }}$$"
      ],
      "text/plain": [
       "❘l,mₗ⟩⨂ ❘1/2,mₛ⟩"
      ]
     },
     "execution_count": 6,
     "metadata": {},
     "output_type": "execute_result"
    }
   ],
   "source": [
    "state = TensorProduct(orbit, spin)\n",
    "state"
   ]
  },
  {
   "cell_type": "markdown",
   "metadata": {},
   "source": [
    "For clarity we will define $L^2$ and $S^2$ operators. These behave the same as `J2`, they only display differently."
   ]
  },
  {
   "cell_type": "code",
   "execution_count": 7,
   "metadata": {
    "collapsed": false
   },
   "outputs": [],
   "source": [
    "L2 = J2Op('L')\n",
    "S2 = J2Op('S')"
   ]
  },
  {
   "cell_type": "markdown",
   "metadata": {},
   "source": [
    "We also have the spin-orbit Hamiltonian:"
   ]
  },
  {
   "cell_type": "code",
   "execution_count": 8,
   "metadata": {
    "collapsed": false
   },
   "outputs": [
    {
     "data": {
      "image/png": "[encoded data removed]",
      "text/latex": [
       "$$J^2 - {1}\\otimes {S^2} - {L^2}\\otimes {1}$$"
      ],
      "text/plain": [
       " 2       2    2   \n",
       "J  - 1⨂ S  - L ⨂ 1"
      ]
     },
     "execution_count": 8,
     "metadata": {},
     "output_type": "execute_result"
    }
   ],
   "source": [
    "hso = J2 - TensorProduct(L2, 1) - TensorProduct(1, S2)\n",
    "hso"
   ]
  },
  {
   "cell_type": "markdown",
   "metadata": {},
   "source": [
    "Now we apply this to our state:"
   ]
  },
  {
   "cell_type": "code",
   "execution_count": 9,
   "metadata": {
    "collapsed": false
   },
   "outputs": [
    {
     "data": {
      "image/png": "[encoded data removed]",
      "text/latex": [
       "$$- \\hbar^{2} l^{2} {{\\left|l,m_{l}\\right\\rangle }}\\otimes {{\\left|\\frac{1}{2},m_{s}\\right\\rangle }} + \\hbar^{2} l {{\\left|l,m_{l}\\right\\rangle }}\\otimes {{\\left|\\frac{1}{2},m_{s}\\right\\rangle }} + J^2 {{\\left|l,m_{l}\\right\\rangle }}\\otimes {{\\left|\\frac{1}{2},m_{s}\\right\\rangle }} - \\frac{3 \\hbar^{2}}{4} {{\\left|l,m_{l}\\right\\rangle }}\\otimes {{\\left|\\frac{1}{2},m_{s}\\right\\rangle }}$$"
      ],
      "text/plain": [
       "                                                                            2 \n",
       "   2  2                     2                       2                    3⋅ℏ ⋅\n",
       "- ℏ ⋅l ⋅❘l,mₗ⟩⨂ ❘1/2,mₛ⟩ + ℏ ⋅l⋅❘l,mₗ⟩⨂ ❘1/2,mₛ⟩ + J ⋅❘l,mₗ⟩⨂ ❘1/2,mₛ⟩ - ─────\n",
       "                                                                              \n",
       "\n",
       "                \n",
       "❘l,mₗ⟩⨂ ❘1/2,mₛ⟩\n",
       "────────────────\n",
       "     4          "
      ]
     },
     "execution_count": 9,
     "metadata": {},
     "output_type": "execute_result"
    }
   ],
   "source": [
    "apply1 = qapply(hso*state)\n",
    "apply1"
   ]
  },
  {
   "cell_type": "markdown",
   "metadata": {},
   "source": [
    "Note this has not applied the coupled $J^2$ operator to the states, so we couple the states and apply again:"
   ]
  },
  {
   "cell_type": "code",
   "execution_count": 10,
   "metadata": {
    "collapsed": false
   },
   "outputs": [
    {
     "data": {
      "image/png": "[encoded data removed]",
      "text/latex": [
       "$$- \\hbar^{2} l^{2} \\sum_{j=m_{l} + m_{s}}^{l + \\frac{1}{2}} C^{j,m_{l} + m_{s}}_{l,m_{l},\\frac{1}{2},m_{s}} {\\left|j,m_{l} + m_{s},j_{1}=l,j_{2}=\\frac{1}{2}\\right\\rangle } - \\hbar^{2} l \\sum_{j=m_{l} + m_{s}}^{l + \\frac{1}{2}} C^{j,m_{l} + m_{s}}_{l,m_{l},\\frac{1}{2},m_{s}} {\\left|j,m_{l} + m_{s},j_{1}=l,j_{2}=\\frac{1}{2}\\right\\rangle } - \\frac{3 \\hbar^{2}}{4} \\sum_{j=m_{l} + m_{s}}^{l + \\frac{1}{2}} C^{j,m_{l} + m_{s}}_{l,m_{l},\\frac{1}{2},m_{s}} {\\left|j,m_{l} + m_{s},j_{1}=l,j_{2}=\\frac{1}{2}\\right\\rangle } + \\sum_{j=m_{l} + m_{s}}^{l + \\frac{1}{2}} \\left(\\hbar^{2} j^{2} C^{j,m_{l} + m_{s}}_{l,m_{l},\\frac{1}{2},m_{s}} {\\left|j,m_{l} + m_{s},j_{1}=l,j_{2}=\\frac{1}{2}\\right\\rangle } + \\hbar^{2} j C^{j,m_{l} + m_{s}}_{l,m_{l},\\frac{1}{2},m_{s}} {\\left|j,m_{l} + m_{s},j_{1}=l,j_{2}=\\frac{1}{2}\\right\\rangle }\\right)$$"
      ],
      "text/plain": [
       "                                                                              \n",
       "                                                                              \n",
       "                                                                              \n",
       "                                                                              \n",
       "                                                                              \n",
       "          l + 1/2                                                 l + 1/2     \n",
       "            ____                                                    ____      \n",
       "            ╲                                                       ╲         \n",
       "             ╲       j,mₗ + mₛ                                       ╲       j\n",
       "   2  2       ╲     C           ⋅❘j,mₗ + mₛ,j₁=l,j₂=1/2⟩    2         ╲     C \n",
       "- ℏ ⋅l ⋅      ╱      l,mₗ,1/2,mₛ                         - ℏ ⋅l⋅      ╱      l\n",
       "             ╱                                                       ╱        \n",
       "            ╱                                                       ╱         \n",
       "            ‾‾‾‾                                                    ‾‾‾‾      \n",
       "        j = mₗ + mₛ                                             j = mₗ + mₛ   \n",
       "\n",
       "                                            l + 1/2                           \n",
       "                                              ____                            \n",
       "                                              ╲                               \n",
       "                                               ╲       j,mₗ + mₛ              \n",
       "                                        2       ╲     C           ⋅❘j,mₗ + mₛ,\n",
       "                                     3⋅ℏ ⋅      ╱      l,mₗ,1/2,mₛ            \n",
       "                                               ╱                              \n",
       "                                              ╱                               \n",
       ",mₗ + mₛ                                      ‾‾‾‾                            \n",
       "          ⋅❘j,mₗ + mₛ,j₁=l,j₂=1/2⟩        j = mₗ + mₛ                         \n",
       ",mₗ,1/2,mₛ                         - ─────────────────────────────────────────\n",
       "                                                               4              \n",
       "                                                                              \n",
       "                                                                              \n",
       "                                                                              \n",
       "\n",
       "                                                                              \n",
       "                                                                              \n",
       "                                                                              \n",
       "                                                                              \n",
       "j₁=l,j₂=1/2⟩                                                                  \n",
       "                 l + 1/2                                                      \n",
       "                   ____                                                       \n",
       "                   ╲                                                          \n",
       "                    ╲      ⎛ 2  2  j,mₗ + mₛ                              2   \n",
       "                     ╲     ⎜ℏ ⋅j ⋅C           ⋅❘j,mₗ + mₛ,j₁=l,j₂=1/2⟩ + ℏ ⋅j⋅\n",
       "──────────── +       ╱     ⎝       l,mₗ,1/2,mₛ                                \n",
       "                    ╱                                                         \n",
       "                   ╱                                                          \n",
       "                   ‾‾‾‾                                                       \n",
       "               j = mₗ + mₛ                                                    \n",
       "\n",
       "                                     \n",
       "                                     \n",
       "                                     \n",
       "                                     \n",
       "                                     \n",
       "                                     \n",
       "                                     \n",
       "                                     \n",
       " j,mₗ + mₛ                          ⎞\n",
       "C           ⋅❘j,mₗ + mₛ,j₁=l,j₂=1/2⟩⎟\n",
       " l,mₗ,1/2,mₛ                        ⎠\n",
       "                                     \n",
       "                                     \n",
       "                                     \n",
       "                                     "
      ]
     },
     "execution_count": 10,
     "metadata": {},
     "output_type": "execute_result"
    }
   ],
   "source": [
    "apply2 = qapply(couple(apply1))\n",
    "apply2"
   ]
  },
  {
   "cell_type": "markdown",
   "metadata": {},
   "source": [
    "We now collect the terms of the sum, since they share the same limits, and factor the result:"
   ]
  },
  {
   "cell_type": "code",
   "execution_count": 11,
   "metadata": {
    "collapsed": false
   },
   "outputs": [
    {
     "data": {
      "image/png": "[encoded data removed]",
      "text/latex": [
       "$$\\sum_{j=m_{l} + m_{s}}^{l + \\frac{1}{2}} \\frac{\\hbar^{2}}{4} \\left(4 j^{2} + 4 j - 4 l^{2} - 4 l - 3\\right) C^{j,m_{l} + m_{s}}_{l,m_{l},\\frac{1}{2},m_{s}} {\\left|j,m_{l} + m_{s},j_{1}=l,j_{2}=\\frac{1}{2}\\right\\rangle }$$"
      ],
      "text/plain": [
       "  l + 1/2                                                                     \n",
       "   _____                                                                      \n",
       "   ╲                                                                          \n",
       "    ╲        2 ⎛   2            2          ⎞  j,mₗ + mₛ                       \n",
       "     ╲      ℏ ⋅⎝4⋅j  + 4⋅j - 4⋅l  - 4⋅l - 3⎠⋅C           ⋅❘j,mₗ + mₛ,j₁=l,j₂=1\n",
       "      ╲                                       l,mₗ,1/2,mₛ                     \n",
       "      ╱     ──────────────────────────────────────────────────────────────────\n",
       "     ╱                                        4                               \n",
       "    ╱                                                                         \n",
       "   ╱                                                                          \n",
       "   ‾‾‾‾‾                                                                      \n",
       "j = mₗ + mₛ                                                                   \n",
       "\n",
       "   \n",
       "   \n",
       "   \n",
       "   \n",
       "/2⟩\n",
       "   \n",
       "───\n",
       "   \n",
       "   \n",
       "   \n",
       "   \n",
       "   "
      ]
     },
     "execution_count": 11,
     "metadata": {},
     "output_type": "execute_result"
    }
   ],
   "source": [
    "subs = []\n",
    "for sum_term in apply2.atoms(Sum):\n",
    "    subs.append((sum_term, sum_term.function))\n",
    "    limits = sum_term.limits\n",
    "final = Sum(factor(apply2.subs(subs)), limits)\n",
    "final"
   ]
  },
  {
   "cell_type": "markdown",
   "metadata": {},
   "source": [
    "This gives us the modification of the angular part of the spin-orbit Hamiltonian. We see there is now the new $j$ quantum number in the coupled states, which we see from looking at the equation will have values $l\\pm \\frac{1}{2}$, and $m_j=m_l + m_s$. We still have the $l$ and $s$ quantum numbers."
   ]
  }
 ],
 "metadata": {
  "kernelspec": {
   "display_name": "Python 3",
   "language": "python",
   "name": "python3"
  },
  "language_info": {
   "codemirror_mode": {
    "name": "ipython",
    "version": 3
   },
   "file_extension": ".py",
   "mimetype": "text/x-python",
   "name": "python",
   "nbconvert_exporter": "python",
   "pygments_lexer": "ipython3",
   "version": "3.5.1"
  }
 },
 "nbformat": 4,
 "nbformat_minor": 0
}
