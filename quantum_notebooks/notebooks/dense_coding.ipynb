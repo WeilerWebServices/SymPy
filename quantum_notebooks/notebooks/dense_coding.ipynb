{
 "cells": [
  {
   "cell_type": "markdown",
   "metadata": {},
   "source": [
    "# Dense Coding"
   ]
  },
  {
   "cell_type": "markdown",
   "metadata": {},
   "source": [
    "## Imports"
   ]
  },
  {
   "cell_type": "code",
   "execution_count": 1,
   "metadata": {
    "collapsed": false
   },
   "outputs": [],
   "source": [
    "%matplotlib inline"
   ]
  },
  {
   "cell_type": "code",
   "execution_count": 7,
   "metadata": {
    "collapsed": true
   },
   "outputs": [],
   "source": [
    "from IPython.display import display"
   ]
  },
  {
   "cell_type": "code",
   "execution_count": 2,
   "metadata": {
    "collapsed": true
   },
   "outputs": [],
   "source": [
    "from sympy import init_printing\n",
    "init_printing(use_latex=True)"
   ]
  },
  {
   "cell_type": "code",
   "execution_count": 3,
   "metadata": {
    "collapsed": true
   },
   "outputs": [],
   "source": [
    "from sympy import sqrt, symbols, Rational\n",
    "from sympy import expand, Eq, Symbol, simplify, exp, sin\n",
    "from sympy.physics.quantum import *\n",
    "from sympy.physics.quantum.qubit import *\n",
    "from sympy.physics.quantum.gate import *\n",
    "from sympy.physics.quantum.grover import *\n",
    "from sympy.physics.quantum.qft import QFT, IQFT, Fourier\n",
    "from sympy.physics.quantum.circuitplot import circuit_plot"
   ]
  },
  {
   "cell_type": "markdown",
   "metadata": {},
   "source": [
    "## Dense coding"
   ]
  },
  {
   "cell_type": "code",
   "execution_count": 4,
   "metadata": {
    "collapsed": false
   },
   "outputs": [
    {
     "data": {
      "image/png": "[encoded data removed]",
      "text/latex": [
       "$$\\frac{\\sqrt{2}}{2} {\\left|00\\right\\rangle } + \\frac{\\sqrt{2}}{2} {\\left|11\\right\\rangle }$$"
      ],
      "text/plain": [
       "√2⋅❘00⟩   √2⋅❘11⟩\n",
       "─────── + ───────\n",
       "   2         2   "
      ]
     },
     "execution_count": 4,
     "metadata": {},
     "output_type": "execute_result"
    }
   ],
   "source": [
    "psi = Qubit('00')/sqrt(2) + Qubit('11')/sqrt(2); psi"
   ]
  },
  {
   "cell_type": "code",
   "execution_count": 5,
   "metadata": {
    "collapsed": true
   },
   "outputs": [],
   "source": [
    "circuits = [H(1)*CNOT(1,0), H(1)*CNOT(1,0)*X(1), H(1)*CNOT(1,0)*Z(1), H(1)*CNOT(1,0)*Z(1)*X(1)]"
   ]
  },
  {
   "cell_type": "code",
   "execution_count": 8,
   "metadata": {
    "collapsed": false
   },
   "outputs": [
    {
     "data": {
      "image/png": "[encoded data removed]",
      "text/latex": [
       "$$H_{1} CNOT_{1,0} \\left(\\frac{\\sqrt{2}}{2} {\\left|00\\right\\rangle } + \\frac{\\sqrt{2}}{2} {\\left|11\\right\\rangle }\\right) = {\\left|00\\right\\rangle }$$"
      ],
      "text/plain": [
       "           ⎛√2⋅❘00⟩   √2⋅❘11⟩⎞       \n",
       "H ⋅CNOT   ⋅⎜─────── + ───────⎟ = ❘00⟩\n",
       " 1     1,0 ⎝   2         2   ⎠       "
      ]
     },
     "metadata": {},
     "output_type": "display_data"
    },
    {
     "data": {
      "image/png": "[encoded data removed]",
      "text/latex": [
       "$$H_{1} CNOT_{1,0} X_{1} \\left(\\frac{\\sqrt{2}}{2} {\\left|00\\right\\rangle } + \\frac{\\sqrt{2}}{2} {\\left|11\\right\\rangle }\\right) = {\\left|01\\right\\rangle }$$"
      ],
      "text/plain": [
       "              ⎛√2⋅❘00⟩   √2⋅❘11⟩⎞       \n",
       "H ⋅CNOT   ⋅X ⋅⎜─────── + ───────⎟ = ❘01⟩\n",
       " 1     1,0  1 ⎝   2         2   ⎠       "
      ]
     },
     "metadata": {},
     "output_type": "display_data"
    },
    {
     "data": {
      "image/png": "[encoded data removed]",
      "text/latex": [
       "$$H_{1} CNOT_{1,0} Z_{1} \\left(\\frac{\\sqrt{2}}{2} {\\left|00\\right\\rangle } + \\frac{\\sqrt{2}}{2} {\\left|11\\right\\rangle }\\right) = {\\left|10\\right\\rangle }$$"
      ],
      "text/plain": [
       "              ⎛√2⋅❘00⟩   √2⋅❘11⟩⎞       \n",
       "H ⋅CNOT   ⋅Z ⋅⎜─────── + ───────⎟ = ❘10⟩\n",
       " 1     1,0  1 ⎝   2         2   ⎠       "
      ]
     },
     "metadata": {},
     "output_type": "display_data"
    },
    {
     "data": {
      "image/png": "[encoded data removed]",
      "text/latex": [
       "$$H_{1} CNOT_{1,0} Z_{1} X_{1} \\left(\\frac{\\sqrt{2}}{2} {\\left|00\\right\\rangle } + \\frac{\\sqrt{2}}{2} {\\left|11\\right\\rangle }\\right) = {\\left|11\\right\\rangle }$$"
      ],
      "text/plain": [
       "                 ⎛√2⋅❘00⟩   √2⋅❘11⟩⎞       \n",
       "H ⋅CNOT   ⋅Z ⋅X ⋅⎜─────── + ───────⎟ = ❘11⟩\n",
       " 1     1,0  1  1 ⎝   2         2   ⎠       "
      ]
     },
     "metadata": {},
     "output_type": "display_data"
    },
    {
     "data": {
      "image/png": "[encoded data removed]",
      "text/plain": [
       "<matplotlib.figure.Figure at 0x10e0e5be0>"
      ]
     },
     "metadata": {},
     "output_type": "display_data"
    },
    {
     "data": {
      "image/png": "[encoded data removed]",
      "text/plain": [
       "<matplotlib.figure.Figure at 0x11043d9e8>"
      ]
     },
     "metadata": {},
     "output_type": "display_data"
    },
    {
     "data": {
      "image/png": "[encoded data removed]",
      "text/plain": [
       "<matplotlib.figure.Figure at 0x110499400>"
      ]
     },
     "metadata": {},
     "output_type": "display_data"
    },
    {
     "data": {
      "image/png": "[encoded data removed]",
      "text/plain": [
       "<matplotlib.figure.Figure at 0x110bab128>"
      ]
     },
     "metadata": {},
     "output_type": "display_data"
    }
   ],
   "source": [
    "for circuit in circuits:\n",
    "    circuit_plot(circuit, nqubits=2)\n",
    "    display(Eq(circuit*psi,qapply(circuit*psi)))"
   ]
  }
 ],
 "metadata": {
  "kernelspec": {
   "display_name": "Python 3",
   "language": "python",
   "name": "python3"
  },
  "language_info": {
   "codemirror_mode": {
    "name": "ipython",
    "version": 3
   },
   "file_extension": ".py",
   "mimetype": "text/x-python",
   "name": "python",
   "nbconvert_exporter": "python",
   "pygments_lexer": "ipython3",
   "version": "3.5.1"
  }
 },
 "nbformat": 4,
 "nbformat_minor": 0
}
