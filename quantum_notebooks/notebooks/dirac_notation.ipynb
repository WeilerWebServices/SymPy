{
 "cells": [
  {
   "cell_type": "markdown",
   "metadata": {},
   "source": [
    "# Basic Symbolic Quantum Mechanics"
   ]
  },
  {
   "cell_type": "code",
   "execution_count": 1,
   "metadata": {
    "collapsed": true
   },
   "outputs": [],
   "source": [
    "from sympy import init_printing\n",
    "init_printing(use_latex=True)"
   ]
  },
  {
   "cell_type": "code",
   "execution_count": 2,
   "metadata": {
    "collapsed": false
   },
   "outputs": [
    {
     "name": "stderr",
     "output_type": "stream",
     "text": [
      "/Users/bgranger/anaconda/lib/python3.5/site-packages/matplotlib/font_manager.py:273: UserWarning: Matplotlib is building the font cache using fc-list. This may take a moment.\n",
      "  warnings.warn('Matplotlib is building the font cache using fc-list. This may take a moment.')\n",
      "/Users/bgranger/anaconda/lib/python3.5/site-packages/matplotlib/font_manager.py:273: UserWarning: Matplotlib is building the font cache using fc-list. This may take a moment.\n",
      "  warnings.warn('Matplotlib is building the font cache using fc-list. This may take a moment.')\n"
     ]
    }
   ],
   "source": [
    "from sympy import sqrt, symbols, Rational, srepr\n",
    "from sympy import expand, Eq, Symbol, simplify, exp, sin\n",
    "from sympy.physics.quantum import *\n",
    "from sympy.physics.quantum.qubit import *\n",
    "from sympy.physics.quantum.gate import *\n",
    "from sympy.physics.quantum.grover import *\n",
    "from sympy.physics.quantum.qft import QFT, IQFT, Fourier\n",
    "from sympy.physics.quantum.circuitplot import circuit_plot"
   ]
  },
  {
   "cell_type": "markdown",
   "metadata": {},
   "source": [
    "## Bras and kets"
   ]
  },
  {
   "cell_type": "markdown",
   "metadata": {},
   "source": [
    "Symbolic kets can be created using the `Ket` class as seen here:"
   ]
  },
  {
   "cell_type": "code",
   "execution_count": 3,
   "metadata": {
    "collapsed": true
   },
   "outputs": [],
   "source": [
    "phi, psi = Ket('phi'), Ket('psi')"
   ]
  },
  {
   "cell_type": "markdown",
   "metadata": {},
   "source": [
    "These ket instances are fully symbolic and behave exactly like the corresponding mathematical entities.\n",
    "For example, one can form a linear combination using addition and scalar multiplication:"
   ]
  },
  {
   "cell_type": "code",
   "execution_count": 4,
   "metadata": {
    "collapsed": false
   },
   "outputs": [
    {
     "data": {
      "image/png": "[encoded data removed]",
      "text/latex": [
       "$$\\alpha {\\left|\\psi\\right\\rangle } + \\beta {\\left|\\phi\\right\\rangle }$$"
      ],
      "text/plain": [
       "α⋅❘ψ⟩ + β⋅❘φ⟩"
      ]
     },
     "execution_count": 4,
     "metadata": {},
     "output_type": "execute_result"
    }
   ],
   "source": [
    "alpha = Symbol('alpha', complex=True)\n",
    "beta = Symbol('beta', complex=True)\n",
    "state = alpha*psi + beta*phi; state"
   ]
  },
  {
   "cell_type": "markdown",
   "metadata": {},
   "source": [
    "Bras can be created using the `Bra` class directly or by using the `Dagger` class\n",
    "on an expression involving kets:"
   ]
  },
  {
   "cell_type": "code",
   "execution_count": 5,
   "metadata": {
    "collapsed": false
   },
   "outputs": [
    {
     "data": {
      "image/png": "[encoded data removed]",
      "text/latex": [
       "$$\\left(\\overline{\\alpha} {\\left\\langle \\psi\\right|} + \\overline{\\beta} {\\left\\langle \\phi\\right|}\\right) \\left(\\alpha {\\left|\\psi\\right\\rangle } + \\beta {\\left|\\phi\\right\\rangle }\\right)$$"
      ],
      "text/plain": [
       "⎛_       _    ⎞                \n",
       "⎝α⋅⟨ψ❘ + β⋅⟨φ❘⎠⋅(α⋅❘ψ⟩ + β⋅❘φ⟩)"
      ]
     },
     "execution_count": 5,
     "metadata": {},
     "output_type": "execute_result"
    }
   ],
   "source": [
    "ip = Dagger(state)*state; ip"
   ]
  },
  {
   "cell_type": "markdown",
   "metadata": {},
   "source": [
    "Because this is a standard SymPy expression, we can use standard SymPy functions and methods\n",
    "for manipulating expression. Here we use expand to multiply this expression out, followed\n",
    "by `qapply` which identifies inner and outer products in an expression."
   ]
  },
  {
   "cell_type": "code",
   "execution_count": 6,
   "metadata": {
    "collapsed": false
   },
   "outputs": [
    {
     "data": {
      "image/png": "[encoded data removed]",
      "text/latex": [
       "$$\\alpha \\overline{\\alpha} \\left\\langle \\psi \\right. {\\left|\\psi\\right\\rangle } + \\alpha \\overline{\\beta} \\left\\langle \\phi \\right. {\\left|\\psi\\right\\rangle } + \\beta \\overline{\\alpha} \\left\\langle \\psi \\right. {\\left|\\phi\\right\\rangle } + \\beta \\overline{\\beta} \\left\\langle \\phi \\right. {\\left|\\phi\\right\\rangle }$$"
      ],
      "text/plain": [
       "  _           _           _           _      \n",
       "α⋅α⋅⟨ψ❘ψ⟩ + α⋅β⋅⟨φ❘ψ⟩ + β⋅α⋅⟨ψ❘φ⟩ + β⋅β⋅⟨φ❘φ⟩"
      ]
     },
     "execution_count": 6,
     "metadata": {},
     "output_type": "execute_result"
    }
   ],
   "source": [
    "qapply(expand(ip))"
   ]
  },
  {
   "cell_type": "markdown",
   "metadata": {},
   "source": [
    "## Operators"
   ]
  },
  {
   "cell_type": "markdown",
   "metadata": {},
   "source": [
    "SymPy also has a full set of classes for handling symbolic operators.  Here we create three operators,\n",
    "one of which is hermitian:"
   ]
  },
  {
   "cell_type": "code",
   "execution_count": 7,
   "metadata": {
    "collapsed": true
   },
   "outputs": [],
   "source": [
    "A = Operator('A')\n",
    "B = Operator('B')\n",
    "C = HermitianOperator('C')"
   ]
  },
  {
   "cell_type": "markdown",
   "metadata": {},
   "source": [
    "When used in arithmetic expressions SymPy knows that operators do not commute under\n",
    "multiplication/composition as is seen by expanding a polynomial of operators:"
   ]
  },
  {
   "cell_type": "code",
   "execution_count": 8,
   "metadata": {
    "collapsed": false
   },
   "outputs": [
    {
     "data": {
      "image/png": "[encoded data removed]",
      "text/latex": [
       "$$A B + A^{2} + B A + B^{2}$$"
      ],
      "text/plain": [
       "       2          2\n",
       "A⋅B + A  + B⋅A + B "
      ]
     },
     "execution_count": 8,
     "metadata": {},
     "output_type": "execute_result"
    }
   ],
   "source": [
    "expand((A+B)**2)"
   ]
  },
  {
   "cell_type": "markdown",
   "metadata": {},
   "source": [
    "Commutators of operators can also be created:"
   ]
  },
  {
   "cell_type": "code",
   "execution_count": 9,
   "metadata": {
    "collapsed": false
   },
   "outputs": [
    {
     "data": {
      "image/png": "[encoded data removed]",
      "text/latex": [
       "$$\\left[A B,C + B\\right]$$"
      ],
      "text/plain": [
       "[A⋅B,C + B]"
      ]
     },
     "execution_count": 9,
     "metadata": {},
     "output_type": "execute_result"
    }
   ],
   "source": [
    "comm = Commutator(A*B,B+C); comm"
   ]
  },
  {
   "cell_type": "markdown",
   "metadata": {},
   "source": [
    "The `expand` function has custom logic for expanding commutators using standard commutator\n",
    "relations:"
   ]
  },
  {
   "cell_type": "code",
   "execution_count": 10,
   "metadata": {
    "collapsed": false
   },
   "outputs": [
    {
     "data": {
      "image/png": "[encoded data removed]",
      "text/latex": [
       "$$- \\left[C,A\\right] B + \\left[A,B\\right] B - A \\left[C,B\\right]$$"
      ],
      "text/plain": [
       "-[C,A]⋅B + [A,B]⋅B - A⋅[C,B]"
      ]
     },
     "execution_count": 10,
     "metadata": {},
     "output_type": "execute_result"
    }
   ],
   "source": [
    "comm.expand(commutator=True)"
   ]
  },
  {
   "cell_type": "markdown",
   "metadata": {},
   "source": [
    "Any commutator can be performed ($[A,B]\\rightarrow AB-BA$) using the `doit` method:"
   ]
  },
  {
   "cell_type": "code",
   "execution_count": 11,
   "metadata": {
    "collapsed": false
   },
   "outputs": [
    {
     "data": {
      "image/png": "[encoded data removed]",
      "text/latex": [
       "$$- C A B + A B C + A B^{2} - B A B$$"
      ],
      "text/plain": [
       "                    2        \n",
       "-C⋅A⋅B + A⋅B⋅C + A⋅B  - B⋅A⋅B"
      ]
     },
     "execution_count": 11,
     "metadata": {},
     "output_type": "execute_result"
    }
   ],
   "source": [
    "_.doit().expand()"
   ]
  },
  {
   "cell_type": "markdown",
   "metadata": {},
   "source": [
    "The `Dagger` class also works with operators and is aware of the properties of unitary\n",
    "and hermitian operators:"
   ]
  },
  {
   "cell_type": "code",
   "execution_count": 12,
   "metadata": {
    "collapsed": false
   },
   "outputs": [
    {
     "data": {
      "image/png": "[encoded data removed]",
      "text/latex": [
       "$$- B^{\\dagger} A^{\\dagger} B^{\\dagger} - B^{\\dagger} A^{\\dagger} C + \\left(B^{\\dagger}\\right)^{2} A^{\\dagger} + C B^{\\dagger} A^{\\dagger}$$"
      ],
      "text/plain": [
       "                           2             \n",
       "   †  †  †    †  †     ⎛ †⎞   †      †  †\n",
       "- B ⋅A ⋅B  - B ⋅A ⋅C + ⎝B ⎠ ⋅A  + C⋅B ⋅A "
      ]
     },
     "execution_count": 12,
     "metadata": {},
     "output_type": "execute_result"
    }
   ],
   "source": [
    "Dagger(_)"
   ]
  },
  {
   "cell_type": "markdown",
   "metadata": {},
   "source": [
    "## Tensor products"
   ]
  },
  {
   "cell_type": "markdown",
   "metadata": {},
   "source": [
    "Symbolic tensor products of operators and states can also be created and manipulated:"
   ]
  },
  {
   "cell_type": "code",
   "execution_count": 13,
   "metadata": {
    "collapsed": false
   },
   "outputs": [
    {
     "data": {
      "image/png": "[encoded data removed]",
      "text/latex": [
       "$${A}\\otimes \\left({C + B}\\right) {{\\left|\\psi\\right\\rangle }}\\otimes {{\\left|\\phi\\right\\rangle }}$$"
      ],
      "text/plain": [
       "A⨂ (C + B)⋅❘ψ⟩⨂ ❘φ⟩"
      ]
     },
     "execution_count": 13,
     "metadata": {},
     "output_type": "execute_result"
    }
   ],
   "source": [
    "op = TensorProduct(A,B+C)\n",
    "state = TensorProduct(psi,phi)\n",
    "op*state"
   ]
  },
  {
   "cell_type": "markdown",
   "metadata": {},
   "source": [
    "Once a tensor product has been created, it can be simplified,"
   ]
  },
  {
   "cell_type": "code",
   "execution_count": 14,
   "metadata": {
    "collapsed": false
   },
   "outputs": [
    {
     "data": {
      "image/png": "[encoded data removed]",
      "text/latex": [
       "$$\\left({A {\\left|\\psi\\right\\rangle }}\\right)\\otimes \\left({\\left(C + B\\right) {\\left|\\phi\\right\\rangle }}\\right)$$"
      ],
      "text/plain": [
       "(A⋅❘ψ⟩)⨂ ((C + B)⋅❘φ⟩)"
      ]
     },
     "execution_count": 14,
     "metadata": {},
     "output_type": "execute_result"
    }
   ],
   "source": [
    "tensor_product_simp(_)"
   ]
  },
  {
   "cell_type": "markdown",
   "metadata": {},
   "source": [
    "and expanded:"
   ]
  },
  {
   "cell_type": "code",
   "execution_count": 15,
   "metadata": {
    "collapsed": false
   },
   "outputs": [
    {
     "data": {
      "image/png": "[encoded data removed]",
      "text/latex": [
       "$$\\left({A {\\left|\\psi\\right\\rangle }}\\right)\\otimes \\left({C {\\left|\\phi\\right\\rangle } + B {\\left|\\phi\\right\\rangle }}\\right)$$"
      ],
      "text/plain": [
       "(A⋅❘ψ⟩)⨂ (C⋅❘φ⟩ + B⋅❘φ⟩)"
      ]
     },
     "execution_count": 15,
     "metadata": {},
     "output_type": "execute_result"
    }
   ],
   "source": [
    "expand(_)"
   ]
  }
 ],
 "metadata": {
  "kernelspec": {
   "display_name": "Python 3",
   "language": "python",
   "name": "python3"
  },
  "language_info": {
   "codemirror_mode": {
    "name": "ipython",
    "version": 3
   },
   "file_extension": ".py",
   "mimetype": "text/x-python",
   "name": "python",
   "nbconvert_exporter": "python",
   "pygments_lexer": "ipython3",
   "version": "3.5.1"
  }
 },
 "nbformat": 4,
 "nbformat_minor": 0
}
