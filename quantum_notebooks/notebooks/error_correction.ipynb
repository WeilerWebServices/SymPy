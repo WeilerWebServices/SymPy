{
 "cells": [
  {
   "cell_type": "markdown",
   "metadata": {},
   "source": [
    "<h1>Quantum Error Correction</h1>"
   ]
  },
  {
   "cell_type": "markdown",
   "metadata": {},
   "source": [
    "## Imports"
   ]
  },
  {
   "cell_type": "code",
   "execution_count": 1,
   "metadata": {
    "collapsed": true
   },
   "outputs": [],
   "source": [
    "%matplotlib inline"
   ]
  },
  {
   "cell_type": "code",
   "execution_count": 9,
   "metadata": {
    "collapsed": true
   },
   "outputs": [],
   "source": [
    "from IPython.display import display"
   ]
  },
  {
   "cell_type": "code",
   "execution_count": 2,
   "metadata": {
    "collapsed": false
   },
   "outputs": [],
   "source": [
    "from sympy import init_printing\n",
    "init_printing(use_latex=True)"
   ]
  },
  {
   "cell_type": "code",
   "execution_count": 3,
   "metadata": {
    "collapsed": false
   },
   "outputs": [],
   "source": [
    "from sympy import sqrt, symbols, Rational\n",
    "from sympy import expand, Eq, Symbol, simplify, exp, sin\n",
    "from sympy.physics.quantum import *\n",
    "from sympy.physics.quantum.qubit import *\n",
    "from sympy.physics.quantum.gate import *\n",
    "from sympy.physics.quantum.grover import *\n",
    "from sympy.physics.quantum.qft import QFT, IQFT, Fourier\n",
    "from sympy.physics.quantum.circuitplot import circuit_plot"
   ]
  },
  {
   "cell_type": "markdown",
   "metadata": {},
   "source": [
    "<h2>5 qubit code</h2>"
   ]
  },
  {
   "cell_type": "code",
   "execution_count": 4,
   "metadata": {
    "collapsed": false
   },
   "outputs": [
    {
     "data": {
      "image/png": "[encoded data removed]",
      "text/latex": [
       "$$Z_{1} X_{2} X_{3} Z_{4}$$"
      ],
      "text/plain": [
       "Z ⋅X ⋅X ⋅Z \n",
       " 1  2  3  4"
      ]
     },
     "execution_count": 4,
     "metadata": {},
     "output_type": "execute_result"
    }
   ],
   "source": [
    "M0 = Z(1)*X(2)*X(3)*Z(4)\n",
    "M0"
   ]
  },
  {
   "cell_type": "code",
   "execution_count": 5,
   "metadata": {
    "collapsed": false
   },
   "outputs": [
    {
     "data": {
      "image/png": "[encoded data removed]",
      "text/latex": [
       "$$Z_{2} X_{3} X_{4} Z_{0}$$"
      ],
      "text/plain": [
       "Z ⋅X ⋅X ⋅Z \n",
       " 2  3  4  0"
      ]
     },
     "execution_count": 5,
     "metadata": {},
     "output_type": "execute_result"
    }
   ],
   "source": [
    "M1 = Z(2)*X(3)*X(4)*Z(0)\n",
    "M1"
   ]
  },
  {
   "cell_type": "code",
   "execution_count": 6,
   "metadata": {
    "collapsed": false
   },
   "outputs": [
    {
     "data": {
      "image/png": "[encoded data removed]",
      "text/latex": [
       "$$Z_{3} X_{4} X_{0} Z_{1}$$"
      ],
      "text/plain": [
       "Z ⋅X ⋅X ⋅Z \n",
       " 3  4  0  1"
      ]
     },
     "execution_count": 6,
     "metadata": {},
     "output_type": "execute_result"
    }
   ],
   "source": [
    "M2 = Z(3)*X(4)*X(0)*Z(1)\n",
    "M2"
   ]
  },
  {
   "cell_type": "code",
   "execution_count": 7,
   "metadata": {
    "collapsed": false
   },
   "outputs": [
    {
     "data": {
      "image/png": "[encoded data removed]",
      "text/latex": [
       "$$Z_{4} X_{0} X_{1} Z_{2}$$"
      ],
      "text/plain": [
       "Z ⋅X ⋅X ⋅Z \n",
       " 4  0  1  2"
      ]
     },
     "execution_count": 7,
     "metadata": {},
     "output_type": "execute_result"
    }
   ],
   "source": [
    "M3 = Z(4)*X(0)*X(1)*Z(2)\n",
    "M3"
   ]
  },
  {
   "cell_type": "markdown",
   "metadata": {},
   "source": [
    "These operators should mutually commute."
   ]
  },
  {
   "cell_type": "code",
   "execution_count": 8,
   "metadata": {
    "collapsed": false
   },
   "outputs": [
    {
     "data": {
      "image/png": "[encoded data removed]",
      "text/latex": [
       "$$0$$"
      ],
      "text/plain": [
       "0"
      ]
     },
     "execution_count": 8,
     "metadata": {},
     "output_type": "execute_result"
    }
   ],
   "source": [
    "gate_simp(Commutator(M0,M1).doit())"
   ]
  },
  {
   "cell_type": "markdown",
   "metadata": {},
   "source": [
    "And square to the identity."
   ]
  },
  {
   "cell_type": "code",
   "execution_count": 10,
   "metadata": {
    "collapsed": false
   },
   "outputs": [
    {
     "data": {
      "image/png": "[encoded data removed]",
      "text/latex": [
       "$$1$$"
      ],
      "text/plain": [
       "1"
      ]
     },
     "metadata": {},
     "output_type": "display_data"
    },
    {
     "data": {
      "image/png": "[encoded data removed]",
      "text/latex": [
       "$$1$$"
      ],
      "text/plain": [
       "1"
      ]
     },
     "metadata": {},
     "output_type": "display_data"
    },
    {
     "data": {
      "image/png": "[encoded data removed]",
      "text/latex": [
       "$$1$$"
      ],
      "text/plain": [
       "1"
      ]
     },
     "metadata": {},
     "output_type": "display_data"
    },
    {
     "data": {
      "image/png": "[encoded data removed]",
      "text/latex": [
       "$$1$$"
      ],
      "text/plain": [
       "1"
      ]
     },
     "metadata": {},
     "output_type": "display_data"
    }
   ],
   "source": [
    "for o in [M0,M1,M2,M3]:\n",
    "    display(gate_simp(o*o))"
   ]
  },
  {
   "cell_type": "markdown",
   "metadata": {},
   "source": [
    "<h2>Codewords</h2>"
   ]
  },
  {
   "cell_type": "code",
   "execution_count": 11,
   "metadata": {
    "collapsed": false
   },
   "outputs": [
    {
     "data": {
      "image/png": "[encoded data removed]",
      "text/latex": [
       "$$\\frac{1}{4} \\left(1 + Z_{1} X_{2} X_{3} Z_{4}\\right) \\left(1 + Z_{2} X_{3} X_{4} Z_{0}\\right) \\left(1 + Z_{3} X_{4} X_{0} Z_{1}\\right) \\left(1 + Z_{4} X_{0} X_{1} Z_{2}\\right) {\\left|0\\right\\rangle }$$"
      ],
      "text/plain": [
       "⎛1 + Z ⋅X ⋅X ⋅Z ⎞⋅⎛1 + Z ⋅X ⋅X ⋅Z ⎞⋅⎛1 + Z ⋅X ⋅X ⋅Z ⎞⋅⎛1 + Z ⋅X ⋅X ⋅Z ⎞⋅❘0⟩\n",
       "⎝     1  2  3  4⎠ ⎝     2  3  4  0⎠ ⎝     3  4  0  1⎠ ⎝     4  0  1  2⎠    \n",
       "───────────────────────────────────────────────────────────────────────────\n",
       "                                     4                                     "
      ]
     },
     "execution_count": 11,
     "metadata": {},
     "output_type": "execute_result"
    }
   ],
   "source": [
    "zero = Rational(1,4)*(1+M0)*(1+M1)*(1+M2)*(1+M3)*IntQubit(0, 5)\n",
    "zero"
   ]
  },
  {
   "cell_type": "code",
   "execution_count": 12,
   "metadata": {
    "collapsed": false
   },
   "outputs": [
    {
     "data": {
      "image/png": "[encoded data removed]",
      "text/latex": [
       "$${\\left|0\\right\\rangle } + {\\left|3\\right\\rangle } - {\\left|5\\right\\rangle } + {\\left|6\\right\\rangle } - {\\left|9\\right\\rangle } - {\\left|10\\right\\rangle } + {\\left|12\\right\\rangle } - {\\left|15\\right\\rangle } + {\\left|17\\right\\rangle } - {\\left|18\\right\\rangle } - {\\left|20\\right\\rangle } - {\\left|23\\right\\rangle } + {\\left|24\\right\\rangle } - {\\left|27\\right\\rangle } - {\\left|29\\right\\rangle } - {\\left|30\\right\\rangle }$$"
      ],
      "text/plain": [
       "❘0⟩ + ❘3⟩ - ❘5⟩ + ❘6⟩ - ❘9⟩ - ❘10⟩ + ❘12⟩ - ❘15⟩ + ❘17⟩ - ❘18⟩ - ❘20⟩ - ❘23⟩ +\n",
       " ❘24⟩ - ❘27⟩ - ❘29⟩ - ❘30⟩"
      ]
     },
     "execution_count": 12,
     "metadata": {},
     "output_type": "execute_result"
    }
   ],
   "source": [
    "qapply(4*zero)"
   ]
  },
  {
   "cell_type": "code",
   "execution_count": 13,
   "metadata": {
    "collapsed": false
   },
   "outputs": [
    {
     "data": {
      "image/png": "[encoded data removed]",
      "text/latex": [
       "$$\\frac{1}{4} \\left(1 + Z_{1} X_{2} X_{3} Z_{4}\\right) \\left(1 + Z_{2} X_{3} X_{4} Z_{0}\\right) \\left(1 + Z_{3} X_{4} X_{0} Z_{1}\\right) \\left(1 + Z_{4} X_{0} X_{1} Z_{2}\\right) {\\left|31\\right\\rangle }$$"
      ],
      "text/plain": [
       "⎛1 + Z ⋅X ⋅X ⋅Z ⎞⋅⎛1 + Z ⋅X ⋅X ⋅Z ⎞⋅⎛1 + Z ⋅X ⋅X ⋅Z ⎞⋅⎛1 + Z ⋅X ⋅X ⋅Z ⎞⋅❘31⟩\n",
       "⎝     1  2  3  4⎠ ⎝     2  3  4  0⎠ ⎝     3  4  0  1⎠ ⎝     4  0  1  2⎠     \n",
       "────────────────────────────────────────────────────────────────────────────\n",
       "                                     4                                      "
      ]
     },
     "execution_count": 13,
     "metadata": {},
     "output_type": "execute_result"
    }
   ],
   "source": [
    "one = Rational(1,4)*(1+M0)*(1+M1)*(1+M2)*(1+M3)*IntQubit(2**5-1, 5)\n",
    "one"
   ]
  },
  {
   "cell_type": "code",
   "execution_count": 14,
   "metadata": {
    "collapsed": false
   },
   "outputs": [
    {
     "data": {
      "image/png": "[encoded data removed]",
      "text/latex": [
       "$$- {\\left|1\\right\\rangle } - {\\left|2\\right\\rangle } - {\\left|4\\right\\rangle } + {\\left|7\\right\\rangle } - {\\left|8\\right\\rangle } - {\\left|11\\right\\rangle } - {\\left|13\\right\\rangle } + {\\left|14\\right\\rangle } - {\\left|16\\right\\rangle } + {\\left|19\\right\\rangle } - {\\left|21\\right\\rangle } - {\\left|22\\right\\rangle } + {\\left|25\\right\\rangle } - {\\left|26\\right\\rangle } + {\\left|28\\right\\rangle } + {\\left|31\\right\\rangle }$$"
      ],
      "text/plain": [
       "-❘1⟩ - ❘2⟩ - ❘4⟩ + ❘7⟩ - ❘8⟩ - ❘11⟩ - ❘13⟩ + ❘14⟩ - ❘16⟩ + ❘19⟩ - ❘21⟩ - ❘22⟩ \n",
       "+ ❘25⟩ - ❘26⟩ + ❘28⟩ + ❘31⟩"
      ]
     },
     "execution_count": 14,
     "metadata": {},
     "output_type": "execute_result"
    }
   ],
   "source": [
    "qapply(4*one)"
   ]
  },
  {
   "cell_type": "markdown",
   "metadata": {},
   "source": [
    "<h2>The encoding circuit</h2>"
   ]
  },
  {
   "cell_type": "code",
   "execution_count": 15,
   "metadata": {
    "collapsed": false
   },
   "outputs": [],
   "source": [
    "encoding_circuit = H(3)*H(4)*CNOT(2,0)*CNOT(3,0)*CNOT(4,0)*H(1)*H(4)*\\\n",
    "                   CNOT(2,1)*CNOT(4,1)*H(2)*CNOT(3,2)*CNOT(4,2)*H(3)*\\\n",
    "                   H(4)*CNOT(4, 3)*Z(4)*H(4)*Z(4)"
   ]
  },
  {
   "cell_type": "code",
   "execution_count": 17,
   "metadata": {
    "collapsed": false
   },
   "outputs": [
    {
     "data": {
      "image/png": "[encoded data removed]",
      "text/plain": [
       "<matplotlib.figure.Figure at 0x110589198>"
      ]
     },
     "metadata": {},
     "output_type": "display_data"
    }
   ],
   "source": [
    "circuit_plot(encoding_circuit, nqubits=5, scale=0.5);"
   ]
  },
  {
   "cell_type": "code",
   "execution_count": 18,
   "metadata": {
    "collapsed": false
   },
   "outputs": [
    {
     "data": {
      "image/png": "[encoded data removed]",
      "text/latex": [
       "$$\\left[\\begin{array}{cccccccccccccccccccccccccccccccc}1 & 0 & 1 & 0 & 1 & 0 & 1 & 0 & 0 & -1 & 0 & -1 & 0 & -1 & 0 & -1 & 0 & -1 & 0 & -1 & 0 & -1 & 0 & -1 & -1 & 0 & -1 & 0 & -1 & 0 & -1 & 0\\\\0 & 1 & 0 & 1 & 0 & 1 & 0 & 1 & -1 & 0 & -1 & 0 & -1 & 0 & -1 & 0 & -1 & 0 & -1 & 0 & -1 & 0 & -1 & 0 & 0 & -1 & 0 & -1 & 0 & -1 & 0 & -1\\\\0 & 1 & 0 & -1 & 0 & 1 & 0 & -1 & -1 & 0 & 1 & 0 & -1 & 0 & 1 & 0 & -1 & 0 & 1 & 0 & -1 & 0 & 1 & 0 & 0 & -1 & 0 & 1 & 0 & -1 & 0 & 1\\\\1 & 0 & -1 & 0 & 1 & 0 & -1 & 0 & 0 & -1 & 0 & 1 & 0 & -1 & 0 & 1 & 0 & -1 & 0 & 1 & 0 & -1 & 0 & 1 & -1 & 0 & 1 & 0 & -1 & 0 & 1 & 0\\\\0 & -1 & 0 & -1 & 0 & 1 & 0 & 1 & 1 & 0 & 1 & 0 & -1 & 0 & -1 & 0 & -1 & 0 & -1 & 0 & 1 & 0 & 1 & 0 & 0 & -1 & 0 & -1 & 0 & 1 & 0 & 1\\\\-1 & 0 & -1 & 0 & 1 & 0 & 1 & 0 & 0 & 1 & 0 & 1 & 0 & -1 & 0 & -1 & 0 & -1 & 0 & -1 & 0 & 1 & 0 & 1 & -1 & 0 & -1 & 0 & 1 & 0 & 1 & 0\\\\1 & 0 & -1 & 0 & -1 & 0 & 1 & 0 & 0 & -1 & 0 & 1 & 0 & 1 & 0 & -1 & 0 & 1 & 0 & -1 & 0 & -1 & 0 & 1 & 1 & 0 & -1 & 0 & -1 & 0 & 1 & 0\\\\0 & 1 & 0 & -1 & 0 & -1 & 0 & 1 & -1 & 0 & 1 & 0 & 1 & 0 & -1 & 0 & 1 & 0 & -1 & 0 & -1 & 0 & 1 & 0 & 0 & 1 & 0 & -1 & 0 & -1 & 0 & 1\\\\0 & -1 & 0 & -1 & 0 & -1 & 0 & -1 & 1 & 0 & 1 & 0 & 1 & 0 & 1 & 0 & -1 & 0 & -1 & 0 & -1 & 0 & -1 & 0 & 0 & -1 & 0 & -1 & 0 & -1 & 0 & -1\\\\-1 & 0 & -1 & 0 & -1 & 0 & -1 & 0 & 0 & 1 & 0 & 1 & 0 & 1 & 0 & 1 & 0 & -1 & 0 & -1 & 0 & -1 & 0 & -1 & -1 & 0 & -1 & 0 & -1 & 0 & -1 & 0\\\\-1 & 0 & 1 & 0 & -1 & 0 & 1 & 0 & 0 & 1 & 0 & -1 & 0 & 1 & 0 & -1 & 0 & -1 & 0 & 1 & 0 & -1 & 0 & 1 & -1 & 0 & 1 & 0 & -1 & 0 & 1 & 0\\\\0 & -1 & 0 & 1 & 0 & -1 & 0 & 1 & 1 & 0 & -1 & 0 & 1 & 0 & -1 & 0 & -1 & 0 & 1 & 0 & -1 & 0 & 1 & 0 & 0 & -1 & 0 & 1 & 0 & -1 & 0 & 1\\\\1 & 0 & 1 & 0 & -1 & 0 & -1 & 0 & 0 & -1 & 0 & -1 & 0 & 1 & 0 & 1 & 0 & -1 & 0 & -1 & 0 & 1 & 0 & 1 & -1 & 0 & -1 & 0 & 1 & 0 & 1 & 0\\\\0 & 1 & 0 & 1 & 0 & -1 & 0 & -1 & -1 & 0 & -1 & 0 & 1 & 0 & 1 & 0 & -1 & 0 & -1 & 0 & 1 & 0 & 1 & 0 & 0 & -1 & 0 & -1 & 0 & 1 & 0 & 1\\\\0 & -1 & 0 & 1 & 0 & 1 & 0 & -1 & 1 & 0 & -1 & 0 & -1 & 0 & 1 & 0 & 1 & 0 & -1 & 0 & -1 & 0 & 1 & 0 & 0 & 1 & 0 & -1 & 0 & -1 & 0 & 1\\\\-1 & 0 & 1 & 0 & 1 & 0 & -1 & 0 & 0 & 1 & 0 & -1 & 0 & -1 & 0 & 1 & 0 & 1 & 0 & -1 & 0 & -1 & 0 & 1 & 1 & 0 & -1 & 0 & -1 & 0 & 1 & 0\\\\0 & 1 & 0 & 1 & 0 & 1 & 0 & 1 & 1 & 0 & 1 & 0 & 1 & 0 & 1 & 0 & -1 & 0 & -1 & 0 & -1 & 0 & -1 & 0 & 0 & 1 & 0 & 1 & 0 & 1 & 0 & 1\\\\1 & 0 & 1 & 0 & 1 & 0 & 1 & 0 & 0 & 1 & 0 & 1 & 0 & 1 & 0 & 1 & 0 & -1 & 0 & -1 & 0 & -1 & 0 & -1 & 1 & 0 & 1 & 0 & 1 & 0 & 1 & 0\\\\-1 & 0 & 1 & 0 & -1 & 0 & 1 & 0 & 0 & -1 & 0 & 1 & 0 & -1 & 0 & 1 & 0 & 1 & 0 & -1 & 0 & 1 & 0 & -1 & -1 & 0 & 1 & 0 & -1 & 0 & 1 & 0\\\\0 & -1 & 0 & 1 & 0 & -1 & 0 & 1 & -1 & 0 & 1 & 0 & -1 & 0 & 1 & 0 & 1 & 0 & -1 & 0 & 1 & 0 & -1 & 0 & 0 & -1 & 0 & 1 & 0 & -1 & 0 & 1\\\\-1 & 0 & -1 & 0 & 1 & 0 & 1 & 0 & 0 & -1 & 0 & -1 & 0 & 1 & 0 & 1 & 0 & -1 & 0 & -1 & 0 & 1 & 0 & 1 & 1 & 0 & 1 & 0 & -1 & 0 & -1 & 0\\\\0 & -1 & 0 & -1 & 0 & 1 & 0 & 1 & -1 & 0 & -1 & 0 & 1 & 0 & 1 & 0 & -1 & 0 & -1 & 0 & 1 & 0 & 1 & 0 & 0 & 1 & 0 & 1 & 0 & -1 & 0 & -1\\\\0 & -1 & 0 & 1 & 0 & 1 & 0 & -1 & -1 & 0 & 1 & 0 & 1 & 0 & -1 & 0 & -1 & 0 & 1 & 0 & 1 & 0 & -1 & 0 & 0 & 1 & 0 & -1 & 0 & -1 & 0 & 1\\\\-1 & 0 & 1 & 0 & 1 & 0 & -1 & 0 & 0 & -1 & 0 & 1 & 0 & 1 & 0 & -1 & 0 & -1 & 0 & 1 & 0 & 1 & 0 & -1 & 1 & 0 & -1 & 0 & -1 & 0 & 1 & 0\\\\1 & 0 & 1 & 0 & 1 & 0 & 1 & 0 & 0 & 1 & 0 & 1 & 0 & 1 & 0 & 1 & 0 & 1 & 0 & 1 & 0 & 1 & 0 & 1 & -1 & 0 & -1 & 0 & -1 & 0 & -1 & 0\\\\0 & 1 & 0 & 1 & 0 & 1 & 0 & 1 & 1 & 0 & 1 & 0 & 1 & 0 & 1 & 0 & 1 & 0 & 1 & 0 & 1 & 0 & 1 & 0 & 0 & -1 & 0 & -1 & 0 & -1 & 0 & -1\\\\0 & -1 & 0 & 1 & 0 & -1 & 0 & 1 & -1 & 0 & 1 & 0 & -1 & 0 & 1 & 0 & -1 & 0 & 1 & 0 & -1 & 0 & 1 & 0 & 0 & 1 & 0 & -1 & 0 & 1 & 0 & -1\\\\-1 & 0 & 1 & 0 & -1 & 0 & 1 & 0 & 0 & -1 & 0 & 1 & 0 & -1 & 0 & 1 & 0 & -1 & 0 & 1 & 0 & -1 & 0 & 1 & 1 & 0 & -1 & 0 & 1 & 0 & -1 & 0\\\\0 & -1 & 0 & -1 & 0 & 1 & 0 & 1 & -1 & 0 & -1 & 0 & 1 & 0 & 1 & 0 & 1 & 0 & 1 & 0 & -1 & 0 & -1 & 0 & 0 & -1 & 0 & -1 & 0 & 1 & 0 & 1\\\\-1 & 0 & -1 & 0 & 1 & 0 & 1 & 0 & 0 & -1 & 0 & -1 & 0 & 1 & 0 & 1 & 0 & 1 & 0 & 1 & 0 & -1 & 0 & -1 & -1 & 0 & -1 & 0 & 1 & 0 & 1 & 0\\\\-1 & 0 & 1 & 0 & 1 & 0 & -1 & 0 & 0 & -1 & 0 & 1 & 0 & 1 & 0 & -1 & 0 & 1 & 0 & -1 & 0 & -1 & 0 & 1 & -1 & 0 & 1 & 0 & 1 & 0 & -1 & 0\\\\0 & -1 & 0 & 1 & 0 & 1 & 0 & -1 & -1 & 0 & 1 & 0 & 1 & 0 & -1 & 0 & 1 & 0 & -1 & 0 & -1 & 0 & 1 & 0 & 0 & -1 & 0 & 1 & 0 & 1 & 0 & -1\\end{array}\\right]$$"
      ],
      "text/plain": [
       "⎡1   0   1   0   1   0   1   0   0   -1  0   -1  0   -1  0   -1  0   -1  0   -\n",
       "⎢                                                                             \n",
       "⎢0   1   0   1   0   1   0   1   -1  0   -1  0   -1  0   -1  0   -1  0   -1  0\n",
       "⎢                                                                             \n",
       "⎢0   1   0   -1  0   1   0   -1  -1  0   1   0   -1  0   1   0   -1  0   1   0\n",
       "⎢                                                                             \n",
       "⎢1   0   -1  0   1   0   -1  0   0   -1  0   1   0   -1  0   1   0   -1  0   1\n",
       "⎢                                                                             \n",
       "⎢0   -1  0   -1  0   1   0   1   1   0   1   0   -1  0   -1  0   -1  0   -1  0\n",
       "⎢                                                                             \n",
       "⎢-1  0   -1  0   1   0   1   0   0   1   0   1   0   -1  0   -1  0   -1  0   -\n",
       "⎢                                                                             \n",
       "⎢1   0   -1  0   -1  0   1   0   0   -1  0   1   0   1   0   -1  0   1   0   -\n",
       "⎢                                                                             \n",
       "⎢0   1   0   -1  0   -1  0   1   -1  0   1   0   1   0   -1  0   1   0   -1  0\n",
       "⎢                                                                             \n",
       "⎢0   -1  0   -1  0   -1  0   -1  1   0   1   0   1   0   1   0   -1  0   -1  0\n",
       "⎢                                                                             \n",
       "⎢-1  0   -1  0   -1  0   -1  0   0   1   0   1   0   1   0   1   0   -1  0   -\n",
       "⎢                                                                             \n",
       "⎢-1  0   1   0   -1  0   1   0   0   1   0   -1  0   1   0   -1  0   -1  0   1\n",
       "⎢                                                                             \n",
       "⎢0   -1  0   1   0   -1  0   1   1   0   -1  0   1   0   -1  0   -1  0   1   0\n",
       "⎢                                                                             \n",
       "⎢1   0   1   0   -1  0   -1  0   0   -1  0   -1  0   1   0   1   0   -1  0   -\n",
       "⎢                                                                             \n",
       "⎢0   1   0   1   0   -1  0   -1  -1  0   -1  0   1   0   1   0   -1  0   -1  0\n",
       "⎢                                                                             \n",
       "⎢0   -1  0   1   0   1   0   -1  1   0   -1  0   -1  0   1   0   1   0   -1  0\n",
       "⎢                                                                             \n",
       "⎢-1  0   1   0   1   0   -1  0   0   1   0   -1  0   -1  0   1   0   1   0   -\n",
       "⎢                                                                             \n",
       "⎢0   1   0   1   0   1   0   1   1   0   1   0   1   0   1   0   -1  0   -1  0\n",
       "⎢                                                                             \n",
       "⎢1   0   1   0   1   0   1   0   0   1   0   1   0   1   0   1   0   -1  0   -\n",
       "⎢                                                                             \n",
       "⎢-1  0   1   0   -1  0   1   0   0   -1  0   1   0   -1  0   1   0   1   0   -\n",
       "⎢                                                                             \n",
       "⎢0   -1  0   1   0   -1  0   1   -1  0   1   0   -1  0   1   0   1   0   -1  0\n",
       "⎢                                                                             \n",
       "⎢-1  0   -1  0   1   0   1   0   0   -1  0   -1  0   1   0   1   0   -1  0   -\n",
       "⎢                                                                             \n",
       "⎢0   -1  0   -1  0   1   0   1   -1  0   -1  0   1   0   1   0   -1  0   -1  0\n",
       "⎢                                                                             \n",
       "⎢0   -1  0   1   0   1   0   -1  -1  0   1   0   1   0   -1  0   -1  0   1   0\n",
       "⎢                                                                             \n",
       "⎢-1  0   1   0   1   0   -1  0   0   -1  0   1   0   1   0   -1  0   -1  0   1\n",
       "⎢                                                                             \n",
       "⎢1   0   1   0   1   0   1   0   0   1   0   1   0   1   0   1   0   1   0   1\n",
       "⎢                                                                             \n",
       "⎢0   1   0   1   0   1   0   1   1   0   1   0   1   0   1   0   1   0   1   0\n",
       "⎢                                                                             \n",
       "⎢0   -1  0   1   0   -1  0   1   -1  0   1   0   -1  0   1   0   -1  0   1   0\n",
       "⎢                                                                             \n",
       "⎢-1  0   1   0   -1  0   1   0   0   -1  0   1   0   -1  0   1   0   -1  0   1\n",
       "⎢                                                                             \n",
       "⎢0   -1  0   -1  0   1   0   1   -1  0   -1  0   1   0   1   0   1   0   1   0\n",
       "⎢                                                                             \n",
       "⎢-1  0   -1  0   1   0   1   0   0   -1  0   -1  0   1   0   1   0   1   0   1\n",
       "⎢                                                                             \n",
       "⎢-1  0   1   0   1   0   -1  0   0   -1  0   1   0   1   0   -1  0   1   0   -\n",
       "⎢                                                                             \n",
       "⎣0   -1  0   1   0   1   0   -1  -1  0   1   0   1   0   -1  0   1   0   -1  0\n",
       "\n",
       "1  0   -1  0   -1  -1  0   -1  0   -1  0   -1  0 ⎤\n",
       "                                                 ⎥\n",
       "   -1  0   -1  0   0   -1  0   -1  0   -1  0   -1⎥\n",
       "                                                 ⎥\n",
       "   -1  0   1   0   0   -1  0   1   0   -1  0   1 ⎥\n",
       "                                                 ⎥\n",
       "   0   -1  0   1   -1  0   1   0   -1  0   1   0 ⎥\n",
       "                                                 ⎥\n",
       "   1   0   1   0   0   -1  0   -1  0   1   0   1 ⎥\n",
       "                                                 ⎥\n",
       "1  0   1   0   1   -1  0   -1  0   1   0   1   0 ⎥\n",
       "                                                 ⎥\n",
       "1  0   -1  0   1   1   0   -1  0   -1  0   1   0 ⎥\n",
       "                                                 ⎥\n",
       "   -1  0   1   0   0   1   0   -1  0   -1  0   1 ⎥\n",
       "                                                 ⎥\n",
       "   -1  0   -1  0   0   -1  0   -1  0   -1  0   -1⎥\n",
       "                                                 ⎥\n",
       "1  0   -1  0   -1  -1  0   -1  0   -1  0   -1  0 ⎥\n",
       "                                                 ⎥\n",
       "   0   -1  0   1   -1  0   1   0   -1  0   1   0 ⎥\n",
       "                                                 ⎥\n",
       "   -1  0   1   0   0   -1  0   1   0   -1  0   1 ⎥\n",
       "                                                 ⎥\n",
       "1  0   1   0   1   -1  0   -1  0   1   0   1   0 ⎥\n",
       "                                                 ⎥\n",
       "   1   0   1   0   0   -1  0   -1  0   1   0   1 ⎥\n",
       "                                                 ⎥\n",
       "   -1  0   1   0   0   1   0   -1  0   -1  0   1 ⎥\n",
       "                                                 ⎥\n",
       "1  0   -1  0   1   1   0   -1  0   -1  0   1   0 ⎥\n",
       "                                                 ⎥\n",
       "   -1  0   -1  0   0   1   0   1   0   1   0   1 ⎥\n",
       "                                                 ⎥\n",
       "1  0   -1  0   -1  1   0   1   0   1   0   1   0 ⎥\n",
       "                                                 ⎥\n",
       "1  0   1   0   -1  -1  0   1   0   -1  0   1   0 ⎥\n",
       "                                                 ⎥\n",
       "   1   0   -1  0   0   -1  0   1   0   -1  0   1 ⎥\n",
       "                                                 ⎥\n",
       "1  0   1   0   1   1   0   1   0   -1  0   -1  0 ⎥\n",
       "                                                 ⎥\n",
       "   1   0   1   0   0   1   0   1   0   -1  0   -1⎥\n",
       "                                                 ⎥\n",
       "   1   0   -1  0   0   1   0   -1  0   -1  0   1 ⎥\n",
       "                                                 ⎥\n",
       "   0   1   0   -1  1   0   -1  0   -1  0   1   0 ⎥\n",
       "                                                 ⎥\n",
       "   0   1   0   1   -1  0   -1  0   -1  0   -1  0 ⎥\n",
       "                                                 ⎥\n",
       "   1   0   1   0   0   -1  0   -1  0   -1  0   -1⎥\n",
       "                                                 ⎥\n",
       "   -1  0   1   0   0   1   0   -1  0   1   0   -1⎥\n",
       "                                                 ⎥\n",
       "   0   -1  0   1   1   0   -1  0   1   0   -1  0 ⎥\n",
       "                                                 ⎥\n",
       "   -1  0   -1  0   0   -1  0   -1  0   1   0   1 ⎥\n",
       "                                                 ⎥\n",
       "   0   -1  0   -1  -1  0   -1  0   1   0   1   0 ⎥\n",
       "                                                 ⎥\n",
       "1  0   -1  0   1   -1  0   1   0   1   0   -1  0 ⎥\n",
       "                                                 ⎥\n",
       "   -1  0   1   0   0   -1  0   1   0   1   0   -1⎦"
      ]
     },
     "execution_count": 18,
     "metadata": {},
     "output_type": "execute_result"
    }
   ],
   "source": [
    "represent(4*encoding_circuit, nqubits=5)"
   ]
  }
 ],
 "metadata": {
  "kernelspec": {
   "display_name": "Python 3",
   "language": "python",
   "name": "python3"
  },
  "language_info": {
   "codemirror_mode": {
    "name": "ipython",
    "version": 3
   },
   "file_extension": ".py",
   "mimetype": "text/x-python",
   "name": "python",
   "nbconvert_exporter": "python",
   "pygments_lexer": "ipython3",
   "version": "3.5.1"
  }
 },
 "nbformat": 4,
 "nbformat_minor": 0
}
