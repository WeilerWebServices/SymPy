{
 "cells": [
  {
   "cell_type": "markdown",
   "metadata": {},
   "source": [
    "# Symbolic Quantum Computing"
   ]
  },
  {
   "cell_type": "markdown",
   "metadata": {},
   "source": [
    "## Imports"
   ]
  },
  {
   "cell_type": "code",
   "execution_count": 1,
   "metadata": {
    "collapsed": false
   },
   "outputs": [],
   "source": [
    "%matplotlib inline"
   ]
  },
  {
   "cell_type": "code",
   "execution_count": 2,
   "metadata": {
    "collapsed": false
   },
   "outputs": [],
   "source": [
    "from IPython.display import display"
   ]
  },
  {
   "cell_type": "code",
   "execution_count": 3,
   "metadata": {
    "collapsed": true
   },
   "outputs": [],
   "source": [
    "from sympy import init_printing\n",
    "init_printing(use_latex=True)"
   ]
  },
  {
   "cell_type": "code",
   "execution_count": 4,
   "metadata": {
    "collapsed": true
   },
   "outputs": [],
   "source": [
    "from sympy import sqrt, symbols, Rational\n",
    "from sympy import expand, Eq, Symbol, simplify, exp, sin, srepr\n",
    "from sympy.physics.quantum import *\n",
    "from sympy.physics.quantum.qubit import *\n",
    "from sympy.physics.quantum.gate import *\n",
    "from sympy.physics.quantum.grover import *\n",
    "from sympy.physics.quantum.qft import QFT, IQFT, Fourier\n",
    "from sympy.physics.quantum.circuitplot import circuit_plot"
   ]
  },
  {
   "cell_type": "markdown",
   "metadata": {},
   "source": [
    "## Qubits"
   ]
  },
  {
   "cell_type": "code",
   "execution_count": 5,
   "metadata": {
    "collapsed": true
   },
   "outputs": [],
   "source": [
    "alpha, beta = symbols('alpha beta', real=True)"
   ]
  },
  {
   "cell_type": "code",
   "execution_count": 6,
   "metadata": {
    "collapsed": false
   },
   "outputs": [
    {
     "data": {
      "image/png": "[encoded data removed]",
      "text/latex": [
       "$$\\alpha {\\left|00\\right\\rangle } + \\beta {\\left|11\\right\\rangle }$$"
      ],
      "text/plain": [
       "α⋅❘00⟩ + β⋅❘11⟩"
      ]
     },
     "execution_count": 6,
     "metadata": {},
     "output_type": "execute_result"
    }
   ],
   "source": [
    "psi = alpha*Qubit('00') + beta*Qubit('11'); psi"
   ]
  },
  {
   "cell_type": "code",
   "execution_count": 7,
   "metadata": {
    "collapsed": false
   },
   "outputs": [
    {
     "data": {
      "image/png": "[encoded data removed]",
      "text/latex": [
       "$$\\alpha {\\left\\langle 00\\right|} + \\beta {\\left\\langle 11\\right|}$$"
      ],
      "text/plain": [
       "α⋅⟨00❘ + β⋅⟨11❘"
      ]
     },
     "execution_count": 7,
     "metadata": {},
     "output_type": "execute_result"
    }
   ],
   "source": [
    "Dagger(psi)"
   ]
  },
  {
   "cell_type": "code",
   "execution_count": 8,
   "metadata": {
    "collapsed": false
   },
   "outputs": [
    {
     "data": {
      "image/png": "[encoded data removed]",
      "text/latex": [
       "$$\\alpha$$"
      ],
      "text/plain": [
       "α"
      ]
     },
     "execution_count": 8,
     "metadata": {},
     "output_type": "execute_result"
    }
   ],
   "source": [
    "qapply(Dagger(Qubit('00'))*psi)"
   ]
  },
  {
   "cell_type": "code",
   "execution_count": 9,
   "metadata": {
    "collapsed": false
   },
   "outputs": [
    {
     "data": {
      "image/png": "[encoded data removed]",
      "text/latex": [
       "$${\\left|00\\right\\rangle }$$"
      ],
      "text/plain": [
       "❘00⟩"
      ]
     },
     "metadata": {},
     "output_type": "display_data"
    },
    {
     "data": {
      "image/png": "[encoded data removed]",
      "text/latex": [
       "$$\\frac{\\alpha^{2} \\overline{\\frac{1}{\\sqrt{\\alpha^{2} + \\beta^{2}}}}}{\\sqrt{\\alpha^{2} + \\beta^{2}}}$$"
      ],
      "text/plain": [
       "   ____________\n",
       " 2      1      \n",
       "α ⋅────────────\n",
       "      _________\n",
       "     ╱  2    2 \n",
       "   ╲╱  α  + β  \n",
       "───────────────\n",
       "     _________ \n",
       "    ╱  2    2  \n",
       "  ╲╱  α  + β   "
      ]
     },
     "metadata": {},
     "output_type": "display_data"
    },
    {
     "data": {
      "image/png": "[encoded data removed]",
      "text/latex": [
       "$${\\left|11\\right\\rangle }$$"
      ],
      "text/plain": [
       "❘11⟩"
      ]
     },
     "metadata": {},
     "output_type": "display_data"
    },
    {
     "data": {
      "image/png": "[encoded data removed]",
      "text/latex": [
       "$$\\frac{\\beta^{2} \\overline{\\frac{1}{\\sqrt{\\alpha^{2} + \\beta^{2}}}}}{\\sqrt{\\alpha^{2} + \\beta^{2}}}$$"
      ],
      "text/plain": [
       "   ____________\n",
       " 2      1      \n",
       "β ⋅────────────\n",
       "      _________\n",
       "     ╱  2    2 \n",
       "   ╲╱  α  + β  \n",
       "───────────────\n",
       "     _________ \n",
       "    ╱  2    2  \n",
       "  ╲╱  α  + β   "
      ]
     },
     "metadata": {},
     "output_type": "display_data"
    }
   ],
   "source": [
    "for state, prob in measure_all(psi):\n",
    "    display(state)\n",
    "    display(prob)"
   ]
  },
  {
   "cell_type": "markdown",
   "metadata": {},
   "source": [
    "Qubits can be represented in the computational basis."
   ]
  },
  {
   "cell_type": "code",
   "execution_count": 10,
   "metadata": {
    "collapsed": false
   },
   "outputs": [
    {
     "data": {
      "image/png": "[encoded data removed]",
      "text/latex": [
       "$$\\left[\\begin{matrix}\\alpha\\\\0\\\\0\\\\\\beta\\end{matrix}\\right]$$"
      ],
      "text/plain": [
       "⎡α⎤\n",
       "⎢ ⎥\n",
       "⎢0⎥\n",
       "⎢ ⎥\n",
       "⎢0⎥\n",
       "⎢ ⎥\n",
       "⎣β⎦"
      ]
     },
     "execution_count": 10,
     "metadata": {},
     "output_type": "execute_result"
    }
   ],
   "source": [
    "represent(psi)"
   ]
  },
  {
   "cell_type": "markdown",
   "metadata": {},
   "source": [
    "## Gates"
   ]
  },
  {
   "cell_type": "markdown",
   "metadata": {},
   "source": [
    "Gate objects are the operators which act on a quantum state."
   ]
  },
  {
   "cell_type": "code",
   "execution_count": 11,
   "metadata": {
    "collapsed": false
   },
   "outputs": [
    {
     "data": {
      "image/png": "[encoded data removed]",
      "text/latex": [
       "$$X_{0}$$"
      ],
      "text/plain": [
       "X \n",
       " 0"
      ]
     },
     "execution_count": 11,
     "metadata": {},
     "output_type": "execute_result"
    }
   ],
   "source": [
    "g = X(0)\n",
    "g"
   ]
  },
  {
   "cell_type": "code",
   "execution_count": 12,
   "metadata": {
    "collapsed": false
   },
   "outputs": [
    {
     "data": {
      "image/png": "[encoded data removed]",
      "text/latex": [
       "$$\\left[\\begin{matrix}0 & 1 & 0 & 0\\\\1 & 0 & 0 & 0\\\\0 & 0 & 0 & 1\\\\0 & 0 & 1 & 0\\end{matrix}\\right]$$"
      ],
      "text/plain": [
       "⎡0  1  0  0⎤\n",
       "⎢          ⎥\n",
       "⎢1  0  0  0⎥\n",
       "⎢          ⎥\n",
       "⎢0  0  0  1⎥\n",
       "⎢          ⎥\n",
       "⎣0  0  1  0⎦"
      ]
     },
     "execution_count": 12,
     "metadata": {},
     "output_type": "execute_result"
    }
   ],
   "source": [
    "represent(g, nqubits=2)"
   ]
  },
  {
   "cell_type": "code",
   "execution_count": 13,
   "metadata": {
    "collapsed": false
   },
   "outputs": [
    {
     "data": {
      "image/png": "[encoded data removed]",
      "text/latex": [
       "$$H_{0} {\\left|00\\right\\rangle }$$"
      ],
      "text/plain": [
       "H ⋅❘00⟩\n",
       " 0     "
      ]
     },
     "execution_count": 13,
     "metadata": {},
     "output_type": "execute_result"
    }
   ],
   "source": [
    "c = H(0)*Qubit('00')\n",
    "c"
   ]
  },
  {
   "cell_type": "code",
   "execution_count": 14,
   "metadata": {
    "collapsed": false
   },
   "outputs": [
    {
     "data": {
      "image/png": "[encoded data removed]",
      "text/latex": [
       "$$\\frac{\\sqrt{2}}{2} {\\left|00\\right\\rangle } + \\frac{\\sqrt{2}}{2} {\\left|01\\right\\rangle }$$"
      ],
      "text/plain": [
       "√2⋅❘00⟩   √2⋅❘01⟩\n",
       "─────── + ───────\n",
       "   2         2   "
      ]
     },
     "execution_count": 14,
     "metadata": {},
     "output_type": "execute_result"
    }
   ],
   "source": [
    "qapply(c)"
   ]
  },
  {
   "cell_type": "code",
   "execution_count": 15,
   "metadata": {
    "collapsed": false
   },
   "outputs": [
    {
     "data": {
      "image/png": "[encoded data removed]",
      "text/latex": [
       "$$H_{0} {\\left|0\\right\\rangle } = \\frac{\\sqrt{2}}{2} {\\left|0\\right\\rangle } + \\frac{\\sqrt{2}}{2} {\\left|1\\right\\rangle }$$"
      ],
      "text/plain": [
       "         √2⋅❘0⟩   √2⋅❘1⟩\n",
       "H ⋅❘0⟩ = ────── + ──────\n",
       " 0         2        2   "
      ]
     },
     "metadata": {},
     "output_type": "display_data"
    },
    {
     "data": {
      "image/png": "[encoded data removed]",
      "text/latex": [
       "$$H_{0} {\\left|1\\right\\rangle } = \\frac{\\sqrt{2}}{2} {\\left|0\\right\\rangle } - \\frac{\\sqrt{2}}{2} {\\left|1\\right\\rangle }$$"
      ],
      "text/plain": [
       "         √2⋅❘0⟩   √2⋅❘1⟩\n",
       "H ⋅❘1⟩ = ────── - ──────\n",
       " 0         2        2   "
      ]
     },
     "metadata": {},
     "output_type": "display_data"
    },
    {
     "data": {
      "image/png": "[encoded data removed]",
      "text/latex": [
       "$$X_{0} {\\left|0\\right\\rangle } = {\\left|1\\right\\rangle }$$"
      ],
      "text/plain": [
       "X ⋅❘0⟩ = ❘1⟩\n",
       " 0          "
      ]
     },
     "metadata": {},
     "output_type": "display_data"
    },
    {
     "data": {
      "image/png": "[encoded data removed]",
      "text/latex": [
       "$$X_{0} {\\left|1\\right\\rangle } = {\\left|0\\right\\rangle }$$"
      ],
      "text/plain": [
       "X ⋅❘1⟩ = ❘0⟩\n",
       " 0          "
      ]
     },
     "metadata": {},
     "output_type": "display_data"
    },
    {
     "data": {
      "image/png": "[encoded data removed]",
      "text/latex": [
       "$$Y_{0} {\\left|0\\right\\rangle } = i {\\left|1\\right\\rangle }$$"
      ],
      "text/plain": [
       "Y ⋅❘0⟩ = ⅈ⋅❘1⟩\n",
       " 0            "
      ]
     },
     "metadata": {},
     "output_type": "display_data"
    },
    {
     "data": {
      "image/png": "[encoded data removed]",
      "text/latex": [
       "$$Y_{0} {\\left|1\\right\\rangle } = - i {\\left|0\\right\\rangle }$$"
      ],
      "text/plain": [
       "Y ⋅❘1⟩ = -ⅈ⋅❘0⟩\n",
       " 0             "
      ]
     },
     "metadata": {},
     "output_type": "display_data"
    },
    {
     "data": {
      "image/png": "[encoded data removed]",
      "text/latex": [
       "$$Z_{0} {\\left|0\\right\\rangle } = {\\left|0\\right\\rangle }$$"
      ],
      "text/plain": [
       "Z ⋅❘0⟩ = ❘0⟩\n",
       " 0          "
      ]
     },
     "metadata": {},
     "output_type": "display_data"
    },
    {
     "data": {
      "image/png": "[encoded data removed]",
      "text/latex": [
       "$$Z_{0} {\\left|1\\right\\rangle } = - {\\left|1\\right\\rangle }$$"
      ],
      "text/plain": [
       "Z ⋅❘1⟩ = -❘1⟩\n",
       " 0           "
      ]
     },
     "metadata": {},
     "output_type": "display_data"
    },
    {
     "data": {
      "image/png": "[encoded data removed]",
      "text/latex": [
       "$$S_{0} {\\left|0\\right\\rangle } = {\\left|0\\right\\rangle }$$"
      ],
      "text/plain": [
       "S ⋅❘0⟩ = ❘0⟩\n",
       " 0          "
      ]
     },
     "metadata": {},
     "output_type": "display_data"
    },
    {
     "data": {
      "image/png": "[encoded data removed]",
      "text/latex": [
       "$$S_{0} {\\left|1\\right\\rangle } = i {\\left|1\\right\\rangle }$$"
      ],
      "text/plain": [
       "S ⋅❘1⟩ = ⅈ⋅❘1⟩\n",
       " 0            "
      ]
     },
     "metadata": {},
     "output_type": "display_data"
    },
    {
     "data": {
      "image/png": "[encoded data removed]",
      "text/latex": [
       "$$T_{0} {\\left|0\\right\\rangle } = {\\left|0\\right\\rangle }$$"
      ],
      "text/plain": [
       "T ⋅❘0⟩ = ❘0⟩\n",
       " 0          "
      ]
     },
     "metadata": {},
     "output_type": "display_data"
    },
    {
     "data": {
      "image/png": "[encoded data removed]",
      "text/latex": [
       "$$T_{0} {\\left|1\\right\\rangle } = e^{\\frac{i \\pi}{4}} {\\left|1\\right\\rangle }$$"
      ],
      "text/plain": [
       "          ⅈ⋅π    \n",
       "          ───    \n",
       "           4     \n",
       "T ⋅❘1⟩ = ℯ   ⋅❘1⟩\n",
       " 0               "
      ]
     },
     "metadata": {},
     "output_type": "display_data"
    }
   ],
   "source": [
    "for gate in [H,X,Y,Z,S,T]:\n",
    "    for state in [Qubit('0'),Qubit('1')]:\n",
    "        lhs = gate(0)*state\n",
    "        rhs = qapply(lhs)\n",
    "        display(Eq(lhs,rhs))"
   ]
  },
  {
   "cell_type": "markdown",
   "metadata": {},
   "source": [
    "<h2>Symbolic gate rules and circuit simplification</h2>"
   ]
  },
  {
   "cell_type": "code",
   "execution_count": 16,
   "metadata": {
    "collapsed": false
   },
   "outputs": [
    {
     "data": {
      "image/png": "[encoded data removed]",
      "text/latex": [
       "$$\\left[Y_{0},Z_{0}\\right] = 2 i X_{0}$$"
      ],
      "text/plain": [
       "⎡Y ,Z ⎤ = 2⋅ⅈ⋅X \n",
       "⎣ 0  0⎦        0"
      ]
     },
     "metadata": {},
     "output_type": "display_data"
    },
    {
     "data": {
      "image/png": "[encoded data removed]",
      "text/latex": [
       "$$- \\left[H_{0},Y_{0}\\right] = - \\sqrt{2} i \\left(- X_{0} + Z_{0}\\right)$$"
      ],
      "text/plain": [
       "-⎡H ,Y ⎤ = -√2⋅ⅈ⋅⎛- X  + Z ⎞\n",
       " ⎣ 0  0⎦         ⎝   0    0⎠"
      ]
     },
     "metadata": {},
     "output_type": "display_data"
    },
    {
     "data": {
      "image/png": "[encoded data removed]",
      "text/latex": [
       "$$- \\left[Y_{0},Z_{0}\\right] = - 2 i X_{0}$$"
      ],
      "text/plain": [
       "-⎡Y ,Z ⎤ = -2⋅ⅈ⋅X \n",
       " ⎣ 0  0⎦         0"
      ]
     },
     "metadata": {},
     "output_type": "display_data"
    },
    {
     "data": {
      "image/png": "[encoded data removed]",
      "text/latex": [
       "$$- \\left[H_{0},Z_{0}\\right] = \\sqrt{2} i Y_{0}$$"
      ],
      "text/plain": [
       "-⎡H ,Z ⎤ = √2⋅ⅈ⋅Y \n",
       " ⎣ 0  0⎦         0"
      ]
     },
     "metadata": {},
     "output_type": "display_data"
    },
    {
     "data": {
      "image/png": "[encoded data removed]",
      "text/latex": [
       "$$\\left[H_{0},Y_{0}\\right] = \\sqrt{2} i \\left(- X_{0} + Z_{0}\\right)$$"
      ],
      "text/plain": [
       "⎡H ,Y ⎤ = √2⋅ⅈ⋅⎛- X  + Z ⎞\n",
       "⎣ 0  0⎦        ⎝   0    0⎠"
      ]
     },
     "metadata": {},
     "output_type": "display_data"
    },
    {
     "data": {
      "image/png": "[encoded data removed]",
      "text/latex": [
       "$$\\left[H_{0},Z_{0}\\right] = - \\sqrt{2} i Y_{0}$$"
      ],
      "text/plain": [
       "⎡H ,Z ⎤ = -√2⋅ⅈ⋅Y \n",
       "⎣ 0  0⎦          0"
      ]
     },
     "metadata": {},
     "output_type": "display_data"
    }
   ],
   "source": [
    "for g1 in (Y,Z,H):\n",
    "    for g2 in (Y,Z,H):\n",
    "        e = Commutator(g1(0),g2(0))\n",
    "        if g1 != g2:\n",
    "            display(Eq(e,e.doit()))"
   ]
  },
  {
   "cell_type": "code",
   "execution_count": 17,
   "metadata": {
    "collapsed": false
   },
   "outputs": [
    {
     "data": {
      "image/png": "[encoded data removed]",
      "text/latex": [
       "$$H_{0} X_{1} CNOT_{0,1} X_{1} X_{0}$$"
      ],
      "text/plain": [
       "H ⋅X ⋅CNOT   ⋅X ⋅X \n",
       " 0  1     0,1  1  0"
      ]
     },
     "execution_count": 17,
     "metadata": {},
     "output_type": "execute_result"
    }
   ],
   "source": [
    "c = H(0)*X(1)*H(0)**2*CNOT(0,1)*X(1)**3*X(0)*Z(1)**2\n",
    "c"
   ]
  },
  {
   "cell_type": "code",
   "execution_count": 19,
   "metadata": {
    "collapsed": false
   },
   "outputs": [
    {
     "data": {
      "image/png": "[encoded data removed]",
      "text/plain": [
       "<matplotlib.figure.Figure at 0x11052bcf8>"
      ]
     },
     "metadata": {},
     "output_type": "display_data"
    }
   ],
   "source": [
    "circuit_plot(c, nqubits=2);"
   ]
  },
  {
   "cell_type": "markdown",
   "metadata": {},
   "source": [
    "This performs a commutator/anticommutator aware bubble sort algorithm to simplify a circuit:"
   ]
  },
  {
   "cell_type": "code",
   "execution_count": 20,
   "metadata": {
    "collapsed": false
   },
   "outputs": [
    {
     "data": {
      "image/png": "[encoded data removed]",
      "text/latex": [
       "$$H_{0} CNOT_{0,1} X_{0}$$"
      ],
      "text/plain": [
       "H ⋅CNOT   ⋅X \n",
       " 0     0,1  0"
      ]
     },
     "execution_count": 20,
     "metadata": {},
     "output_type": "execute_result"
    }
   ],
   "source": [
    "gate_simp(c)"
   ]
  },
  {
   "cell_type": "code",
   "execution_count": 21,
   "metadata": {
    "collapsed": false
   },
   "outputs": [
    {
     "data": {
      "text/plain": [
       "<sympy.physics.quantum.circuitplot.CircuitPlot at 0x110567940>"
      ]
     },
     "execution_count": 21,
     "metadata": {},
     "output_type": "execute_result"
    },
    {
     "data": {
      "image/png": "[encoded data removed]",
      "text/plain": [
       "<matplotlib.figure.Figure at 0x110567fd0>"
      ]
     },
     "metadata": {},
     "output_type": "display_data"
    }
   ],
   "source": [
    "circuit_plot(gate_simp(c),nqubits=2)"
   ]
  }
 ],
 "metadata": {
  "kernelspec": {
   "display_name": "Python 3",
   "language": "python",
   "name": "python3"
  },
  "language_info": {
   "codemirror_mode": {
    "name": "ipython",
    "version": 3
   },
   "file_extension": ".py",
   "mimetype": "text/x-python",
   "name": "python",
   "nbconvert_exporter": "python",
   "pygments_lexer": "ipython3",
   "version": "3.5.1"
  }
 },
 "nbformat": 4,
 "nbformat_minor": 0
}
